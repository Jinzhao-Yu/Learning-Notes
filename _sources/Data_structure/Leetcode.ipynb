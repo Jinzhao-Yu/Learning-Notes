{
 "cells": [
  {
   "cell_type": "markdown",
   "id": "85491ce0-3386-4b0a-bd83-52e11dc9c6e2",
   "metadata": {},
   "source": [
    "# Leetcode Solutions"
   ]
  },
  {
   "cell_type": "markdown",
   "id": "8425b193-acca-47f8-9520-6bee08a72063",
   "metadata": {
    "jp-MarkdownHeadingCollapsed": true,
    "tags": []
   },
   "source": [
    "## 33. Search in Rotated Sorted Array"
   ]
  },
  {
   "cell_type": "code",
   "execution_count": 1,
   "id": "a4ca599b-00f0-477a-b676-4a7a4c5b7b26",
   "metadata": {},
   "outputs": [],
   "source": [
    "def search(nums, target):\n",
    "    lo, hi = 0, len(nums)-1\n",
    "    while lo <= hi:\n",
    "        mid = (lo+hi)//2\n",
    "        if nums[mid] == target:\n",
    "            return mid\n",
    "        elif nums[hi] > nums[mid]:\n",
    "            if nums[mid] < target <= nums[hi]:\n",
    "                lo = mid+1\n",
    "            else:\n",
    "                hi = mid-1\n",
    "        else:\n",
    "            if nums[lo] <= target < nums[mid]:\n",
    "                hi = mid-1\n",
    "            else:\n",
    "                lo = mid+1\n",
    "    return -1"
   ]
  },
  {
   "cell_type": "markdown",
   "id": "64205b21-3a49-4bfb-be54-4ece80b0401f",
   "metadata": {
    "jp-MarkdownHeadingCollapsed": true,
    "tags": []
   },
   "source": [
    "## 34. Find First and Last Position of Element in Sorted Array"
   ]
  },
  {
   "cell_type": "code",
   "execution_count": 2,
   "id": "333b5ef2-9538-4ebe-ae7a-7830bcdd145c",
   "metadata": {},
   "outputs": [],
   "source": [
    "def searchRange(self, nums, target):\n",
    "    lo, hi = 0, len(nums)-1\n",
    "    \n",
    "    def first_position(lo, hi, target):\n",
    "        while lo<=hi:\n",
    "            mid = (lo+hi)//2\n",
    "            if nums[mid] == target:\n",
    "                if mid-1>=0 and nums[mid-1] == target:\n",
    "                    hi = mid-1\n",
    "                else:\n",
    "                    return mid\n",
    "            elif nums[mid] > target:\n",
    "                hi = mid-1\n",
    "            elif nums[mid] < target:\n",
    "                lo = mid+1\n",
    "            \n",
    "        return -1\n",
    "    \n",
    "    def last_position(lo, hi, target):\n",
    "        while lo<=hi:\n",
    "            mid = (lo+hi)//2\n",
    "            if nums[mid] == target:\n",
    "                if mid+1<=hi and nums[mid+1] == target:\n",
    "                    lo = mid+1\n",
    "                else:\n",
    "                    return mid\n",
    "            elif nums[mid] > target:\n",
    "                hi = mid-1\n",
    "            elif nums[mid] < target:\n",
    "                lo = mid+1\n",
    "            \n",
    "        return -1 \n",
    "    \n",
    "    return([first_position(lo, hi, target), last_position(lo, hi, target)])"
   ]
  },
  {
   "cell_type": "markdown",
   "id": "41d7b648-3015-4b13-a3de-e444b20151d4",
   "metadata": {
    "jp-MarkdownHeadingCollapsed": true,
    "tags": []
   },
   "source": [
    "## 94. Binary Tree Inorder Traversal"
   ]
  },
  {
   "cell_type": "code",
   "execution_count": 1,
   "id": "42337ac7-ec5a-4509-a0bb-c3b3fc2875ef",
   "metadata": {},
   "outputs": [],
   "source": [
    "# Method 1: Recursion 递归\n",
    "# Definition for a binary tree node.\n",
    "# class TreeNode(object):\n",
    "#     def __init__(self, val=0, left=None, right=None):\n",
    "#         self.val = val\n",
    "#         self.left = left\n",
    "#         self.right = right\n",
    "class Solution(object):\n",
    "    def inorderTraversal(self, root):\n",
    "        \"\"\"\n",
    "        :type root: TreeNode\n",
    "        :rtype: List[int]\n",
    "        \"\"\"\n",
    "        if root is None:\n",
    "            return []\n",
    "        return (self.inorderTraversal(root.left) + [root.val] + self.inorderTraversal(root.right))"
   ]
  },
  {
   "cell_type": "markdown",
   "id": "bc870975-bbf4-4677-a728-20d74c0bc58e",
   "metadata": {
    "jp-MarkdownHeadingCollapsed": true,
    "tags": []
   },
   "source": [
    "## 104. Maximum Depth of Binary Tree"
   ]
  },
  {
   "cell_type": "code",
   "execution_count": null,
   "id": "33484315-0f3a-4f24-b2aa-da8d4528fb00",
   "metadata": {},
   "outputs": [],
   "source": [
    "# Definition for a binary tree node.\n",
    "# class TreeNode(object):\n",
    "#     def __init__(self, val=0, left=None, right=None):\n",
    "#         self.val = val\n",
    "#         self.left = left\n",
    "#         self.right = right\n",
    "class Solution(object):\n",
    "    def maxDepth(self, root):\n",
    "        \"\"\"\n",
    "        :type root: TreeNode\n",
    "        :rtype: int\n",
    "        \"\"\"\n",
    "        if root is None:\n",
    "            return 0\n",
    "        return 1+max(self.maxDepth(root.left),self.maxDepth(root.right))"
   ]
  },
  {
   "cell_type": "markdown",
   "id": "d5ff6398-4dc7-4e4a-b648-47745eabcbd5",
   "metadata": {
    "jp-MarkdownHeadingCollapsed": true,
    "tags": []
   },
   "source": [
    "## 111. Minimum Depth of Binary Tree"
   ]
  },
  {
   "cell_type": "code",
   "execution_count": null,
   "id": "37b256f2-e389-4798-8866-e31021d6c3ec",
   "metadata": {},
   "outputs": [],
   "source": [
    "# Definition for a binary tree node.\n",
    "# class TreeNode(object):\n",
    "#     def __init__(self, val=0, left=None, right=None):\n",
    "#         self.val = val\n",
    "#         self.left = left\n",
    "#         self.right = right\n",
    "class Solution(object):\n",
    "    def minDepth(self, root):\n",
    "        \"\"\"\n",
    "        :type root: TreeNode\n",
    "        :rtype: int\n",
    "        \"\"\"\n",
    "        if root is None:\n",
    "            return 0\n",
    "        elif root.left is None and root.right is not None:\n",
    "            return 1+self.minDepth(root.right)\n",
    "        elif root.right is None and root.left is not None:\n",
    "            return 1+self.minDepth(root.left)\n",
    "        return 1+min(self.minDepth(root.left),self.minDepth(root.right))"
   ]
  },
  {
   "cell_type": "markdown",
   "id": "b047c7ff-8d77-4051-9ac1-eea4054a2f3d",
   "metadata": {
    "jp-MarkdownHeadingCollapsed": true,
    "tags": []
   },
   "source": [
    "## 144. Binary Tree Preorder Traversal"
   ]
  },
  {
   "cell_type": "code",
   "execution_count": null,
   "id": "e54cbb6e-8757-4406-ad4e-facbb4ee3141",
   "metadata": {},
   "outputs": [],
   "source": [
    "# Method 1: Recursion 递归\n",
    "# Definition for a binary tree node.\n",
    "# class TreeNode(object):\n",
    "#     def __init__(self, val=0, left=None, right=None):\n",
    "#         self.val = val\n",
    "#         self.left = left\n",
    "#         self.right = right\n",
    "class Solution(object):\n",
    "    def preorderTraversal(self, root):\n",
    "        \"\"\"\n",
    "        :type root: TreeNode\n",
    "        :rtype: List[int]\n",
    "        \"\"\"\n",
    "        if root is None:\n",
    "            return []\n",
    "        return ([root.val] + self.preorderTraversal(root.left) + self.preorderTraversal(root.right))"
   ]
  },
  {
   "cell_type": "markdown",
   "id": "319442f7-2a69-47a2-9a0f-92b794db65e3",
   "metadata": {
    "jp-MarkdownHeadingCollapsed": true,
    "tags": []
   },
   "source": [
    "## 145. Binary Tree Postorder Traversal"
   ]
  },
  {
   "cell_type": "code",
   "execution_count": null,
   "id": "652f903f-1182-406b-91ef-7fad337e82ce",
   "metadata": {},
   "outputs": [],
   "source": [
    "# Method 1: Recursion 递归\n",
    "# Definition for a binary tree node.\n",
    "# class TreeNode(object):\n",
    "#     def __init__(self, val=0, left=None, right=None):\n",
    "#         self.val = val\n",
    "#         self.left = left\n",
    "#         self.right = right\n",
    "class Solution(object):\n",
    "    def postorderTraversal(self, root):\n",
    "        \"\"\"\n",
    "        :type root: TreeNode\n",
    "        :rtype: List[int]\n",
    "        \"\"\"\n",
    "        if root is None:\n",
    "            return []\n",
    "        return (self.postorderTraversal(root.left) + self.postorderTraversal(root.right) + [root.val])"
   ]
  },
  {
   "cell_type": "markdown",
   "id": "b62fca74-387d-452d-ba3b-7566d28477e5",
   "metadata": {
    "jp-MarkdownHeadingCollapsed": true,
    "tags": []
   },
   "source": [
    "## 543. Diameter of Binary Tree"
   ]
  },
  {
   "cell_type": "code",
   "execution_count": null,
   "id": "9d739609-4c15-4850-ab91-0c08db2053fa",
   "metadata": {},
   "outputs": [],
   "source": [
    "# Definition for a binary tree node.\n",
    "# class TreeNode(object):\n",
    "#     def __init__(self, val=0, left=None, right=None):\n",
    "#         self.val = val\n",
    "#         self.left = left\n",
    "#         self.right = right\n",
    "class Solution(object):\n",
    "    def diameterOfBinaryTree(self, root):\n",
    "        \"\"\"\n",
    "        :type root: TreeNode\n",
    "        :rtype: int\n",
    "        \"\"\"\n",
    "        def depth(root):\n",
    "            if root is None:\n",
    "                return 0\n",
    "            return 1+max(depth(root.left),depth(root.right))\n",
    "\n",
    "        if root is None:\n",
    "            return 0\n",
    "        return max(depth(root.left)+depth(root.right), self.diameterOfBinaryTree(root.left), self.diameterOfBinaryTree(root.right))"
   ]
  },
  {
   "cell_type": "markdown",
   "id": "edec5f96-7b71-4478-8b5d-7445dd6faf47",
   "metadata": {
    "jp-MarkdownHeadingCollapsed": true,
    "tags": []
   },
   "source": [
    "## 704. Binary Search"
   ]
  },
  {
   "cell_type": "code",
   "execution_count": 3,
   "id": "1b57a814-89bc-492f-a524-345afe99c483",
   "metadata": {},
   "outputs": [],
   "source": [
    "def search(self, nums, target):\n",
    "    lo, hi = 0, len(nums)-1\n",
    "    \n",
    "    while lo <= hi:\n",
    "        mid = (lo+hi)//2\n",
    "        if nums[mid] == target:\n",
    "            if mid-1>=0 and nums[mid-1]==target:\n",
    "                hi = mid-1\n",
    "            else:\n",
    "                return mid\n",
    "        elif nums[mid] < target:\n",
    "            lo = mid+1\n",
    "        elif nums[mid] > target:\n",
    "            hi = mid-1\n",
    "            \n",
    "    return -1"
   ]
  },
  {
   "cell_type": "markdown",
   "id": "77943698-8d57-4be5-b76a-c0dfbfa355d3",
   "metadata": {
    "jp-MarkdownHeadingCollapsed": true,
    "tags": []
   },
   "source": [
    "## *958. Check Completeness of a Binary Tree "
   ]
  },
  {
   "cell_type": "code",
   "execution_count": 1,
   "id": "800a98c7-f0b5-4d92-86dd-e09702321267",
   "metadata": {},
   "outputs": [],
   "source": [
    "# Definition for a binary tree node.\n",
    "# class TreeNode(object):\n",
    "#     def __init__(self, val=0, left=None, right=None):\n",
    "#         self.val = val\n",
    "#         self.left = left\n",
    "#         self.right = right\n",
    "class Solution(object):\n",
    "    def isCompleteTree(self, root):\n",
    "        \"\"\"\n",
    "        :type root: TreeNode\n",
    "        :rtype: bool\n",
    "        \"\"\"\n",
    "        nodes = [(root,1)]\n",
    "        i = 0\n",
    "        while i < len(nodes):\n",
    "            node, v = nodes[i]\n",
    "            if node is not None:\n",
    "                nodes.append((node.left, 2*v))\n",
    "                nodes.append((node.right, 2*v+1))\n",
    "            i+=1\n",
    "        return nodes[-1][1] == len(nodes)"
   ]
  }
 ],
 "metadata": {
  "kernelspec": {
   "display_name": "Python 3 (ipykernel)",
   "language": "python",
   "name": "python3"
  },
  "language_info": {
   "codemirror_mode": {
    "name": "ipython",
    "version": 3
   },
   "file_extension": ".py",
   "mimetype": "text/x-python",
   "name": "python",
   "nbconvert_exporter": "python",
   "pygments_lexer": "ipython3",
   "version": "3.9.12"
  }
 },
 "nbformat": 4,
 "nbformat_minor": 5
}
