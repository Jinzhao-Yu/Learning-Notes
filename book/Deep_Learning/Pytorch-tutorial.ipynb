{
 "cells": [
  {
   "cell_type": "markdown",
   "id": "daed265d-0b34-43a8-a0ea-31cf84c4556e",
   "metadata": {},
   "source": [
    "# Pytorch Tensor Tutorial\n",
    "Initializing tensors, math, indexing, reshaping\n",
    "## Tensor Initialization"
   ]
  },
  {
   "cell_type": "code",
   "execution_count": 2,
   "id": "7b12b4fa-f942-4fec-b229-4e33546a0f16",
   "metadata": {},
   "outputs": [
    {
     "name": "stdout",
     "output_type": "stream",
     "text": [
      "tensor([[1., 2., 3.],\n",
      "        [4., 5., 6.]], requires_grad=True)\n"
     ]
    }
   ],
   "source": [
    "import torch\n",
    "\n",
    "# create a tensor\n",
    "device = \"cuda\" if torch.cuda.is_available() else \"cpu\" # if we have a GPU then use it\n",
    "\n",
    "my_tensor = torch.tensor([[1, 2, 3], [4, 5, 6]], # 2 rows and 3 columns\n",
    "                         dtype=torch.float32, # float32 type\n",
    "                         device=device, requires_grad=True) # default device = \"cpu\"\n",
    "print(my_tensor)"
   ]
  },
  {
   "cell_type": "markdown",
   "id": "406aa112-de29-4f43-a78d-058a4a81355a",
   "metadata": {},
   "source": [
    "We can see the attributes of a tensor like below, which we have defined when initialiazation."
   ]
  },
  {
   "cell_type": "code",
   "execution_count": 3,
   "id": "044bf253-9f47-4c8a-958c-ec3a07ad73eb",
   "metadata": {},
   "outputs": [
    {
     "name": "stdout",
     "output_type": "stream",
     "text": [
      "torch.float32\n",
      "cpu\n",
      "torch.Size([2, 3])\n",
      "True\n"
     ]
    }
   ],
   "source": [
    "print(my_tensor.dtype)\n",
    "print(my_tensor.device)\n",
    "print(my_tensor.shape)\n",
    "print(my_tensor.requires_grad)"
   ]
  },
  {
   "cell_type": "markdown",
   "id": "c813cfff-3463-4220-a5ca-f7bbbbcf7caa",
   "metadata": {},
   "source": [
    "Other initialization methods:"
   ]
  },
  {
   "cell_type": "code",
   "execution_count": 15,
   "id": "6417fd0a-29bb-4867-a60a-11221d4d9d0c",
   "metadata": {},
   "outputs": [
    {
     "name": "stdout",
     "output_type": "stream",
     "text": [
      "tensor([[1.0000, 1.0000, 1.0000],\n",
      "        [1.0000, 1.0000, 1.0000],\n",
      "        [1.0000, 1.0000, 1.0000]])\n"
     ]
    }
   ],
   "source": [
    "x = torch.empty(size = (3, 3)) # random values\n",
    "print(x)"
   ]
  },
  {
   "cell_type": "code",
   "execution_count": 10,
   "id": "7a5fd2bd-a47d-407f-8b50-a4dccadcb9dc",
   "metadata": {},
   "outputs": [
    {
     "name": "stdout",
     "output_type": "stream",
     "text": [
      "tensor([[0., 0., 0.],\n",
      "        [0., 0., 0.],\n",
      "        [0., 0., 0.]])\n"
     ]
    }
   ],
   "source": [
    "x = torch.zeros((3, 3)) # zeros values\n",
    "print(x)"
   ]
  },
  {
   "cell_type": "code",
   "execution_count": 11,
   "id": "f9bbe60e-5280-4f6c-803d-b62ad78451e6",
   "metadata": {},
   "outputs": [
    {
     "name": "stdout",
     "output_type": "stream",
     "text": [
      "tensor([[0.5978, 0.9819, 0.0438],\n",
      "        [0.3936, 0.8372, 0.2535],\n",
      "        [0.9933, 0.9542, 0.1583]])\n"
     ]
    }
   ],
   "source": [
    "x = torch.rand((3, 3)) # random values in [0,1]\n",
    "print(x)"
   ]
  },
  {
   "cell_type": "code",
   "execution_count": 12,
   "id": "4dd274e9-7c13-4b16-abcc-8358ded854d9",
   "metadata": {},
   "outputs": [
    {
     "name": "stdout",
     "output_type": "stream",
     "text": [
      "tensor([[1., 1., 1.],\n",
      "        [1., 1., 1.],\n",
      "        [1., 1., 1.]])\n"
     ]
    }
   ],
   "source": [
    "x = torch.ones((3, 3)) # ones values\n",
    "print(x)"
   ]
  },
  {
   "cell_type": "code",
   "execution_count": 20,
   "id": "d7a5a211-2be4-4583-aeea-cbc214a78ff6",
   "metadata": {},
   "outputs": [
    {
     "name": "stdout",
     "output_type": "stream",
     "text": [
      "tensor([[1., 0., 0., 0., 0.],\n",
      "        [0., 1., 0., 0., 0.],\n",
      "        [0., 0., 1., 0., 0.],\n",
      "        [0., 0., 0., 1., 0.],\n",
      "        [0., 0., 0., 0., 1.]])\n"
     ]
    }
   ],
   "source": [
    "x = torch.eye(5, 5) # identity matrix\n",
    "print(x)"
   ]
  },
  {
   "cell_type": "code",
   "execution_count": 14,
   "id": "48eedfa6-44a4-476b-b0b9-707f13e5c601",
   "metadata": {},
   "outputs": [
    {
     "name": "stdout",
     "output_type": "stream",
     "text": [
      "tensor([0, 1, 2, 3, 4])\n"
     ]
    }
   ],
   "source": [
    "x = torch.arange(start=0, end=5, step=1) # range[0,5]\n",
    "print(x)"
   ]
  },
  {
   "cell_type": "code",
   "execution_count": 16,
   "id": "57ff5917-a1bb-49c5-bc3e-c4272a155f9a",
   "metadata": {},
   "outputs": [
    {
     "name": "stdout",
     "output_type": "stream",
     "text": [
      "tensor([0.1000, 0.2000, 0.3000, 0.4000, 0.5000, 0.6000, 0.7000, 0.8000, 0.9000,\n",
      "        1.0000])\n"
     ]
    }
   ],
   "source": [
    "x = torch.linspace(start=0.1, end=1, steps=10) # equal cut into parts\n",
    "print(x)"
   ]
  },
  {
   "cell_type": "code",
   "execution_count": 17,
   "id": "43265afa-6c49-47c3-a3b3-bb6d705ccff3",
   "metadata": {},
   "outputs": [
    {
     "name": "stdout",
     "output_type": "stream",
     "text": [
      "tensor([[-0.1050,  0.6378,  0.9851,  0.5098,  0.5755]])\n"
     ]
    }
   ],
   "source": [
    "x = torch.empty(size = (1, 5)).normal_(mean=0, std=1) # normal distribution\n",
    "print(x)"
   ]
  },
  {
   "cell_type": "code",
   "execution_count": 18,
   "id": "4dd353c8-cd08-43cb-a255-e9401f4e9e44",
   "metadata": {},
   "outputs": [
    {
     "name": "stdout",
     "output_type": "stream",
     "text": [
      "tensor([[0.3263, 0.8763, 0.2628, 0.0903, 0.1561]])\n"
     ]
    }
   ],
   "source": [
    "x = torch.empty(size = (1, 5)).uniform_(0, 1) # uniform distribution, same as torch.rand()\n",
    "print(x)"
   ]
  },
  {
   "cell_type": "code",
   "execution_count": 19,
   "id": "46dd5b8d-8027-42db-9907-477e5b8a58b5",
   "metadata": {},
   "outputs": [
    {
     "name": "stdout",
     "output_type": "stream",
     "text": [
      "tensor([[1., 0., 0.],\n",
      "        [0., 1., 0.],\n",
      "        [0., 0., 1.]])\n"
     ]
    }
   ],
   "source": [
    "x = torch.diag(torch.ones(3)) # diagonal matrix with ones values, same as torch.eye(3, 3)\n",
    "print(x)"
   ]
  },
  {
   "cell_type": "markdown",
   "id": "6182b033-fa3a-48b0-8473-7ece98fd4f63",
   "metadata": {},
   "source": [
    "How to initialize and convert tensors to other types (int, float, double)"
   ]
  },
  {
   "cell_type": "code",
   "execution_count": 21,
   "id": "68b199d2-21e2-4233-bd58-2d29ee9c9dbc",
   "metadata": {},
   "outputs": [
    {
     "name": "stdout",
     "output_type": "stream",
     "text": [
      "tensor([False,  True,  True,  True])\n",
      "tensor([0, 1, 2, 3], dtype=torch.int16)\n",
      "tensor([0, 1, 2, 3])\n",
      "tensor([0., 1., 2., 3.], dtype=torch.float16)\n",
      "tensor([0., 1., 2., 3.])\n",
      "tensor([0., 1., 2., 3.], dtype=torch.float64)\n"
     ]
    }
   ],
   "source": [
    "# create an int64 tensor\n",
    "tensor = torch.arange(4)\n",
    "# convert it into a boolean tensor\n",
    "print(tensor.bool())\n",
    "# convert to int16 tensor\n",
    "print(tensor.short())\n",
    "# convert to int64 tensor\n",
    "print(tensor.long()) # important to use\n",
    "# convert to float16 tensor\n",
    "print(tensor.half())\n",
    "# convert to float32 tensor\n",
    "print(tensor.float()) # most often to use\n",
    "# convert to float64 tensor\n",
    "print(tensor.double())"
   ]
  },
  {
   "cell_type": "markdown",
   "id": "624ead48-a947-477a-bee4-6c77de80c4c5",
   "metadata": {},
   "source": []
  }
 ],
 "metadata": {
  "kernelspec": {
   "display_name": "Python 3 (ipykernel)",
   "language": "python",
   "name": "python3"
  },
  "language_info": {
   "codemirror_mode": {
    "name": "ipython",
    "version": 3
   },
   "file_extension": ".py",
   "mimetype": "text/x-python",
   "name": "python",
   "nbconvert_exporter": "python",
   "pygments_lexer": "ipython3",
   "version": "3.9.12"
  }
 },
 "nbformat": 4,
 "nbformat_minor": 5
}
