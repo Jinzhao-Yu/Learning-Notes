{
 "cells": [
  {
   "cell_type": "markdown",
   "id": "precise-filename",
   "metadata": {},
   "source": [
    "# 2 Binary Search Trees, Traversals and Balancing"
   ]
  },
  {
   "cell_type": "markdown",
   "id": "governmental-worry",
   "metadata": {},
   "source": [
    "In this notebook, we'll focus on solving the following problem:\n",
    "\n",
    "> **QUESTION 1**: As a senior backend engineer at Jovian, you are tasked with developing a fast in-memory data structure to manage profile information (username, name and email) for 100 million users. It should allow the following operations to be performed efficiently:\n",
    "> \n",
    "> 1. **Insert** the profile information for a new user.\n",
    "> 2. **Find** the profile information of a user, given their username\n",
    "> 3. **Update** the profile information of a user, given their usrname\n",
    "> 5. **List** all the users of the platform, sorted by username\n",
    ">\n",
    "> You can assume that usernames are unique. \n",
    ">\n",
    "> We need to create a data structure which can store 100 million records and perform insertion, search, update and list operations efficiently.\n",
    "\n",
    "Along the way, we will also solve several other questions related to binary trees and binary search trees that are often asked in coding interviews and assessments. "
   ]
  },
  {
   "cell_type": "markdown",
   "id": "three-register",
   "metadata": {},
   "source": [
    "## 2.1 Linear Search\n",
    "### 2.1.1 Input\n",
    "\n",
    "The key inputs to our data structure are user profiles, which contain the username, name and email of a user. \n",
    "\n",
    "**A Python _class_ would be a great way to represent the information for a user. A class is a blueprint for creating _objects_. Everything in Python is an _object_ belonging to some _class_.**"
   ]
  },
  {
   "cell_type": "code",
   "execution_count": 1,
   "id": "1632abcb-6612-44af-be66-1a20a8bdfd37",
   "metadata": {},
   "outputs": [],
   "source": [
    "class User():\n",
    "    def __init__(self, username, name, email):\n",
    "        self.username = username\n",
    "        self.name = name\n",
    "        self.email = email\n",
    "        \n",
    "    def introduce_yourself(self, guest_name):\n",
    "        print(\"Hi {}, I'm {}, please contact me at {}!\".format(guest_name, self.name, self.email))"
   ]
  },
  {
   "cell_type": "markdown",
   "id": "biblical-recommendation",
   "metadata": {},
   "source": [
    "We can now create an object with some properties."
   ]
  },
  {
   "cell_type": "code",
   "execution_count": 2,
   "id": "above-daughter",
   "metadata": {},
   "outputs": [],
   "source": [
    "user1 = User('john', 'John Doe', 'john@doe.com')"
   ]
  },
  {
   "cell_type": "code",
   "execution_count": 3,
   "id": "single-roads",
   "metadata": {},
   "outputs": [
    {
     "data": {
      "text/plain": [
       "<__main__.User at 0x7fbb51083b50>"
      ]
     },
     "execution_count": 3,
     "metadata": {},
     "output_type": "execute_result"
    }
   ],
   "source": [
    "user1"
   ]
  },
  {
   "cell_type": "markdown",
   "id": "narrow-seeker",
   "metadata": {},
   "source": [
    "Here's what's happening above (conceptually):\n",
    "\n",
    "- Python creates an empty object of the type user and stores in the variable `user1`\n",
    "- Python then invokes the function `User.___init__` with the arguments `user1`, `\"john\"`, `\"John Doe\"` and `\"john@doe.com\"`\n",
    "- As the `__init__` function is executed, the properties `username`, `name` and `email` are set on the object `user1`\n"
   ]
  },
  {
   "cell_type": "markdown",
   "id": "injured-sheffield",
   "metadata": {},
   "source": [
    "We can access the properties of the object using the `.` notation."
   ]
  },
  {
   "cell_type": "code",
   "execution_count": 4,
   "id": "blessed-albert",
   "metadata": {},
   "outputs": [
    {
     "data": {
      "text/plain": [
       "('John Doe', 'john@doe.com', 'john')"
      ]
     },
     "execution_count": 4,
     "metadata": {},
     "output_type": "execute_result"
    }
   ],
   "source": [
    "user1.name, user1.email, user1.username"
   ]
  },
  {
   "cell_type": "markdown",
   "id": "international-arrow",
   "metadata": {},
   "source": [
    "You can also define custom methods inside a class."
   ]
  },
  {
   "cell_type": "code",
   "execution_count": 5,
   "id": "negative-tunisia",
   "metadata": {},
   "outputs": [
    {
     "name": "stdout",
     "output_type": "stream",
     "text": [
      "Hi David, I'm John Doe, please contact me at john@doe.com!\n"
     ]
    }
   ],
   "source": [
    "user1.introduce_yourself('David')"
   ]
  },
  {
   "cell_type": "markdown",
   "id": "rental-power",
   "metadata": {},
   "source": [
    "When we try to invoke the method `user3.introduce_yourself`, the object `user3` is automatically passed as the first argument `self`. Indeed, the following statement is equivalent to the above statement."
   ]
  },
  {
   "cell_type": "code",
   "execution_count": 6,
   "id": "apparent-spring",
   "metadata": {},
   "outputs": [
    {
     "name": "stdout",
     "output_type": "stream",
     "text": [
      "Hi David, I'm John Doe, please contact me at john@doe.com!\n"
     ]
    }
   ],
   "source": [
    "User.introduce_yourself(user1, 'David')"
   ]
  },
  {
   "cell_type": "markdown",
   "id": "veterinary-sustainability",
   "metadata": {},
   "source": [
    "Finally, we'll define a couple of helper methods to display user objects nicely within Jupyter."
   ]
  },
  {
   "cell_type": "code",
   "execution_count": 7,
   "id": "regular-equivalent",
   "metadata": {},
   "outputs": [],
   "source": [
    "class User:\n",
    "    def __init__(self, username, name, email):\n",
    "        self.username = username\n",
    "        self.name = name\n",
    "        self.email = email\n",
    "        \n",
    "    def __repr__(self):\n",
    "        return \"User(username='{}', name='{}', email='{}')\".format(self.username, self.name, self.email)\n",
    "    \n",
    "    def __str__(self):\n",
    "        return self.__repr__()"
   ]
  },
  {
   "cell_type": "markdown",
   "id": "c31a3564-b689-4819-a7ea-ae75c0c4e9fb",
   "metadata": {},
   "source": [
    ">**The difference between `__repr__` and `__str__`**:\\\n",
    ">`__repr__` compute the “official” string representation of an object (a representation that has all information about the object)\\\n",
    ">`__str__` is used to compute the “informal” string representation of an object (a representation that is useful for printing the object)"
   ]
  },
  {
   "cell_type": "code",
   "execution_count": 8,
   "id": "1a90ca16-fcca-4eb1-9976-1b372df50b7e",
   "metadata": {},
   "outputs": [
    {
     "name": "stdout",
     "output_type": "stream",
     "text": [
      "2022-07-05 12:49:22.901734\n",
      "datetime.datetime(2022, 7, 5, 12, 49, 22, 901734)\n"
     ]
    }
   ],
   "source": [
    "import datetime\n",
    "today = datetime.datetime.now()\n",
    "  \n",
    "# Prints readable format for date-time object\n",
    "print (str(today))\n",
    "  \n",
    "# prints the official format of date-time object\n",
    "print (repr(today))     "
   ]
  },
  {
   "cell_type": "code",
   "execution_count": 9,
   "id": "bright-vegetation",
   "metadata": {},
   "outputs": [
    {
     "data": {
      "text/plain": [
       "User(username='jane', name='Jane Doe', email='jane@doe.com')"
      ]
     },
     "execution_count": 9,
     "metadata": {},
     "output_type": "execute_result"
    }
   ],
   "source": [
    "user2 = User('jane', 'Jane Doe', 'jane@doe.com')\n",
    "user2"
   ]
  },
  {
   "cell_type": "markdown",
   "id": "laden-tiger",
   "metadata": {},
   "source": [
    "Let's create some sample user profiles that we can use to test our functions once we implement them."
   ]
  },
  {
   "cell_type": "code",
   "execution_count": 10,
   "id": "appointed-guatemala",
   "metadata": {},
   "outputs": [],
   "source": [
    "aakash = User('aakash', 'Aakash Rai', 'aakash@example.com')\n",
    "biraj = User('biraj', 'Biraj Das', 'biraj@example.com')\n",
    "hemanth = User('hemanth', 'Hemanth Jain', 'hemanth@example.com')\n",
    "jadhesh = User('jadhesh', 'Jadhesh Verma', 'jadhesh@example.com')\n",
    "siddhant = User('siddhant', 'Siddhant Sinha', 'siddhant@example.com')\n",
    "sonaksh = User('sonaksh', 'Sonaksh Kumar', 'sonaksh@example.com')\n",
    "vishal = User('vishal', 'Vishal Goel', 'vishal@example.com')"
   ]
  },
  {
   "cell_type": "code",
   "execution_count": 11,
   "id": "digital-happening",
   "metadata": {},
   "outputs": [
    {
     "data": {
      "text/plain": [
       "[User(username='aakash', name='Aakash Rai', email='aakash@example.com'),\n",
       " User(username='biraj', name='Biraj Das', email='biraj@example.com'),\n",
       " User(username='hemanth', name='Hemanth Jain', email='hemanth@example.com'),\n",
       " User(username='jadhesh', name='Jadhesh Verma', email='jadhesh@example.com'),\n",
       " User(username='siddhant', name='Siddhant Sinha', email='siddhant@example.com'),\n",
       " User(username='sonaksh', name='Sonaksh Kumar', email='sonaksh@example.com'),\n",
       " User(username='vishal', name='Vishal Goel', email='vishal@example.com')]"
      ]
     },
     "execution_count": 11,
     "metadata": {},
     "output_type": "execute_result"
    }
   ],
   "source": [
    "users = [aakash, biraj, hemanth, jadhesh, siddhant, sonaksh, vishal]\n",
    "users"
   ]
  },
  {
   "cell_type": "markdown",
   "id": "5fe6246e-ed51-47b4-ac9e-7ace80e03e58",
   "metadata": {},
   "source": [
    "### 2.1.2 Output\n",
    "\n",
    "We can also express our desired data structure as a Python class `UserDatabase` with four methods: `insert`, `find`, `update` and `list_all`. "
   ]
  },
  {
   "cell_type": "markdown",
   "id": "nuclear-infrared",
   "metadata": {},
   "source": [
    "Here's a simple and easy solution to the problem: we store the `User` objects in a list sorted by usernames. \n",
    "\n",
    "The various functions can be implemented as follows:\n",
    "\n",
    "1. **Insert**: Loop through the list and add the new user at a position that keeps the list sorted.\n",
    "2. **Find**: Loop through the list and find the user object with the username matching the query.\n",
    "3. **Update**: Loop through the list, find the user object matching the query and update the details\n",
    "4. **List**: Return the list of user objects.\n",
    "\n",
    "We can use the fact usernames, which are are strings can be compared using the `<`, `>` and `==` operators in Python."
   ]
  },
  {
   "cell_type": "code",
   "execution_count": 12,
   "id": "5832b481-3026-41e6-9ee8-85434207887a",
   "metadata": {},
   "outputs": [],
   "source": [
    "class UserDatabase:\n",
    "    def __init__(self):\n",
    "        self.users = []\n",
    "    \n",
    "    def insert(self, user):\n",
    "        i = 0\n",
    "        while i < len(self.users):\n",
    "            if self.users[i].username > user.username:\n",
    "                break\n",
    "            i+=1\n",
    "        self.users.insert(i, user)\n",
    "        \n",
    "    def find(self, target):\n",
    "        for user in self.users:\n",
    "            if user.username == target:\n",
    "                return user\n",
    "    \n",
    "    def update(self, user):\n",
    "        target = self.find(user.username)\n",
    "        target.name, target.email = user.name, user.email\n",
    "    \n",
    "    def list_all(self):\n",
    "        return self.users"
   ]
  },
  {
   "cell_type": "markdown",
   "id": "rational-retrieval",
   "metadata": {},
   "source": [
    "We can create a new database of users by _instantiating_ and object of the `UserDatabase` class, and use these functions to change the database."
   ]
  },
  {
   "cell_type": "code",
   "execution_count": 13,
   "id": "bc9b8dac-9872-4878-a515-5dffc41ce985",
   "metadata": {},
   "outputs": [
    {
     "data": {
      "text/plain": [
       "User(username='siddhant', name='Siddhant Sinha', email='siddhant@example.com')"
      ]
     },
     "execution_count": 13,
     "metadata": {},
     "output_type": "execute_result"
    }
   ],
   "source": [
    "database = UserDatabase()\n",
    "# insert some users into database\n",
    "database.insert(hemanth)\n",
    "database.insert(aakash)\n",
    "database.insert(siddhant)\n",
    "database.insert(biraj)\n",
    "# find the target user\n",
    "user = database.find('siddhant')\n",
    "user"
   ]
  },
  {
   "cell_type": "code",
   "execution_count": 14,
   "id": "wanted-colonial",
   "metadata": {},
   "outputs": [
    {
     "data": {
      "text/plain": [
       "User(username='siddhant', name='Siddhant U', email='siddhantu@example.com')"
      ]
     },
     "execution_count": 14,
     "metadata": {},
     "output_type": "execute_result"
    }
   ],
   "source": [
    "# update the user information\n",
    "database.update(User(username='siddhant', name='Siddhant U', email='siddhantu@example.com'))\n",
    "user = database.find('siddhant')\n",
    "user"
   ]
  },
  {
   "cell_type": "code",
   "execution_count": 15,
   "id": "approved-square",
   "metadata": {},
   "outputs": [
    {
     "data": {
      "text/plain": [
       "[User(username='aakash', name='Aakash Rai', email='aakash@example.com'),\n",
       " User(username='biraj', name='Biraj Das', email='biraj@example.com'),\n",
       " User(username='hemanth', name='Hemanth Jain', email='hemanth@example.com'),\n",
       " User(username='siddhant', name='Siddhant U', email='siddhantu@example.com')]"
      ]
     },
     "execution_count": 15,
     "metadata": {},
     "output_type": "execute_result"
    }
   ],
   "source": [
    "# list all users in database\n",
    "database.list_all()"
   ]
  },
  {
   "cell_type": "markdown",
   "id": "dangerous-venezuela",
   "metadata": {},
   "source": [
    "### 2.1.3 Complexity\n",
    "\n",
    "The operations `insert`, `find`, `update` involves iterating over a list of users, in the worst case, they may take up to `N` iterations to return a result, where `N` is the total number of users. `list_all` however, simply returns the existing internal list of users. \n",
    "\n",
    "Thus, the time complexities of the various operations are:\n",
    "\n",
    "1. Insert: **O(N)**\n",
    "2. Find: **O(N)**\n",
    "3. Update: **O(N)**\n",
    "4. List: **O(1)**"
   ]
  },
  {
   "cell_type": "markdown",
   "id": "bright-nothing",
   "metadata": {},
   "source": [
    "## 2.2 Binary Tree\n",
    "\n",
    "We can limit the number of iterations required for common operations like find, insert and update by organizing our data in the following structure, called a **binary tree**:\n",
    "\n",
    "<img src=\"https://i.imgur.com/Mqef5b3.png\" width=\"520\">\n",
    "\n",
    "It's called a tree because it vaguely like an inverted tree trunk with branches. \n",
    "* The word \"binary\" indicates that each \"node\" in the tree can have at most 2 children (left or right). \n",
    "* Nodes can have 0, 1 or 2 children. Nodes that do not have any children are sometimes also called \"leaves\".\n",
    "* The single node at the top is called the \"root\" node, and it typically where operations like search, insertion etc. begin."
   ]
  },
  {
   "cell_type": "markdown",
   "id": "7ec710ac-353c-4d39-93eb-09daf6644aba",
   "metadata": {},
   "source": [
    "### 2.2.1 Balanced Binary Search Trees\n",
    "\n",
    "For our use case, we require the binary tree to have some additional properties:\n",
    "\n",
    "1. **Keys and Values**: Each node of the tree stores a key (a username) and a value (a `User` object). Only keys are shown in the picture above for brevity. A binary tree where nodes have both a key and a value is often referred to as a **map** or **treemap** (because it maps keys to values).\n",
    "2. **Binary Search Tree**: The *left subtree* of any node only contains nodes with keys that are lexicographically smaller than the node's key, and the *right subtree* of any node only contains nodes with keys that lexicographically larger than the node's key. A tree that satisfies this property is called a **binary search trees**, and it's easy to locate a specific key by traversing a single path down from the root note.\n",
    "3. **Balanced Tree**: The tree is **balanced** i.e. it does not skew too heavily to one side or the other. The left and right subtrees of any node shouldn't differ in height/depth by more than 1 level."
   ]
  },
  {
   "cell_type": "markdown",
   "id": "fatty-brook",
   "metadata": {},
   "source": [
    "> **QUESTION 2**: Implement a binary tree using Python, and show its usage with some examples.\n",
    "\n",
    "To begin, we'll create simple binary tree (without any of the additional properties) containing numbers as keys within nodes. Here's an example:\n",
    "\n",
    "<img src=\"https://i.imgur.com/hg2ZG5h.png\" width=\"240\">\n",
    "\n",
    "Here's a simple class representing a node within a binary tree.\n"
   ]
  },
  {
   "cell_type": "code",
   "execution_count": 16,
   "id": "bc4b38b1-9b62-42af-aeea-1307a14e38e9",
   "metadata": {},
   "outputs": [],
   "source": [
    "class TreeNode:\n",
    "    def __init__(self, key):\n",
    "        self.key = key\n",
    "        self.left = None\n",
    "        self.right = None"
   ]
  },
  {
   "cell_type": "markdown",
   "id": "super-accuracy",
   "metadata": {},
   "source": [
    "Let's create objects representing each node of the above tree, and combine them:"
   ]
  },
  {
   "cell_type": "code",
   "execution_count": 17,
   "id": "activated-medicaid",
   "metadata": {},
   "outputs": [],
   "source": [
    "node0 = TreeNode(3)\n",
    "node1 = TreeNode(4)\n",
    "node2 = TreeNode(5)\n",
    "node0.left = node1\n",
    "node0.right = node2\n",
    "tree = node0"
   ]
  },
  {
   "cell_type": "code",
   "execution_count": 18,
   "id": "elder-fiction",
   "metadata": {},
   "outputs": [
    {
     "data": {
      "text/plain": [
       "(3, 4, 5)"
      ]
     },
     "execution_count": 18,
     "metadata": {},
     "output_type": "execute_result"
    }
   ],
   "source": [
    "tree.key,tree.left.key,tree.right.key"
   ]
  },
  {
   "cell_type": "markdown",
   "id": "crucial-bacon",
   "metadata": {},
   "source": [
    "When the tree is complex like belo, it's a bit inconvenient to create a tree by manually connecting all the nodes. Let's write a helper function which can convert a tuple with the structure `( left_subtree, key, right_subtree)` (where `left_subtree` and `right_subtree` are themselves tuples) into binary tree.\\\n",
    "<img src=\"https://i.imgur.com/d7djJAf.png\" width=\"540\">"
   ]
  },
  {
   "cell_type": "code",
   "execution_count": 19,
   "id": "defined-string",
   "metadata": {},
   "outputs": [],
   "source": [
    "def parse_tuple(data):\n",
    "    '''convert a tuple into a binary tree'''\n",
    "    if isinstance(data, tuple) and len(data) == 3:\n",
    "        node = TreeNode(data[1])\n",
    "        node.left = parse_tuple(data[0])\n",
    "        node.right = parse_tuple(data[2])\n",
    "    elif data is None:\n",
    "        node = None\n",
    "    else:\n",
    "        node = TreeNode(data)\n",
    "    return node"
   ]
  },
  {
   "cell_type": "markdown",
   "id": "final-cambridge",
   "metadata": {},
   "source": [
    "The `parse_tuple` creates a new root node when a tuple of size 3 as an the input. Interestingly, to create the left and right subtrees for the node, the `parse_tuple` function invokes itself. This technique is called _recursion_. The chain of _recursive_ calls ends when `parse_tuple` encounters a number or `None` as input."
   ]
  },
  {
   "cell_type": "code",
   "execution_count": 20,
   "id": "heavy-consent",
   "metadata": {},
   "outputs": [
    {
     "data": {
      "text/plain": [
       "<__main__.TreeNode at 0x7fbb610d8130>"
      ]
     },
     "execution_count": 20,
     "metadata": {},
     "output_type": "execute_result"
    }
   ],
   "source": [
    "tree_tuple = ((1,3,None), 2, ((None, 3, 4), 5, (6, 7, 8)))\n",
    "tree2 = parse_tuple(tree_tuple)\n",
    "tree2"
   ]
  },
  {
   "cell_type": "code",
   "execution_count": 21,
   "id": "precious-hammer",
   "metadata": {},
   "outputs": [
    {
     "data": {
      "text/plain": [
       "2"
      ]
     },
     "execution_count": 21,
     "metadata": {},
     "output_type": "execute_result"
    }
   ],
   "source": [
    "tree2.key"
   ]
  },
  {
   "cell_type": "code",
   "execution_count": 22,
   "id": "finished-moses",
   "metadata": {},
   "outputs": [
    {
     "data": {
      "text/plain": [
       "(3, 5)"
      ]
     },
     "execution_count": 22,
     "metadata": {},
     "output_type": "execute_result"
    }
   ],
   "source": [
    "tree2.left.key, tree2.right.key"
   ]
  },
  {
   "cell_type": "code",
   "execution_count": 23,
   "id": "regulated-monthly",
   "metadata": {},
   "outputs": [
    {
     "data": {
      "text/plain": [
       "(1, None, 3, 7)"
      ]
     },
     "execution_count": 23,
     "metadata": {},
     "output_type": "execute_result"
    }
   ],
   "source": [
    "tree2.left.left.key, tree2.left.right, tree2.right.left.key, tree2.right.right.key"
   ]
  },
  {
   "cell_type": "code",
   "execution_count": 24,
   "id": "dedicated-warning",
   "metadata": {
    "scrolled": true
   },
   "outputs": [
    {
     "data": {
      "text/plain": [
       "(4, 6, 8)"
      ]
     },
     "execution_count": 24,
     "metadata": {},
     "output_type": "execute_result"
    }
   ],
   "source": [
    "tree2.right.left.right.key, tree2.right.right.left.key, tree2.right.right.right.key"
   ]
  },
  {
   "cell_type": "markdown",
   "id": "parallel-healthcare",
   "metadata": {},
   "source": [
    "Define a function `tree_to_tuple` that converts a binary tree into a tuple representing the same tree. E.g. `tree_to_tuple` converts the tree created above to the tuple `((1, 3, None), 2, ((None, 3, 4), 5, (6, 7, 8)))`."
   ]
  },
  {
   "cell_type": "code",
   "execution_count": 25,
   "id": "36023caa-1a04-42ab-b9b4-a917ae00413c",
   "metadata": {},
   "outputs": [],
   "source": [
    "def tree_to_tuple(node):\n",
    "    '''convert a tree into a tuple'''\n",
    "    tree_tuple = ()\n",
    "    if node is None:\n",
    "        return None\n",
    "    elif node.left is None and node.right is None:\n",
    "        return node.key\n",
    "    return (tree_to_tuple(node.left), node.key, tree_to_tuple(node.right))"
   ]
  },
  {
   "cell_type": "code",
   "execution_count": 26,
   "id": "c09265d0",
   "metadata": {},
   "outputs": [
    {
     "data": {
      "text/plain": [
       "((1, 3, None), 2, ((None, 3, 4), 5, (6, 7, 8)))"
      ]
     },
     "execution_count": 26,
     "metadata": {},
     "output_type": "execute_result"
    }
   ],
   "source": [
    "tree_to_tuple(tree2)"
   ]
  },
  {
   "cell_type": "markdown",
   "id": "comparative-civilization",
   "metadata": {},
   "source": [
    "Let's create another helper function `display_keys` to display all the keys in a tree-like structure for easier visualization."
   ]
  },
  {
   "cell_type": "code",
   "execution_count": 27,
   "id": "82aaaca6-3179-4069-ac55-a35cb40a6c50",
   "metadata": {},
   "outputs": [],
   "source": [
    "def display_keys(node, space='\\t', level=0):\n",
    "    '''display all keys of a node in a tree-like structrure'''\n",
    "    # if the node is empty\n",
    "    if node is None:\n",
    "        print(space*level + '∅')\n",
    "        return\n",
    "    # if the node is a leaf\n",
    "    if node.left is None and node.right is None:\n",
    "        print(space*level + str(node.key))\n",
    "        return\n",
    "    # if the node has children\n",
    "    display_keys(node.right, space, level+1)\n",
    "    print(space*level + str(node.key))\n",
    "    display_keys(node.left, space, level+1)"
   ]
  },
  {
   "cell_type": "code",
   "execution_count": 28,
   "id": "rental-junction",
   "metadata": {},
   "outputs": [
    {
     "name": "stdout",
     "output_type": "stream",
     "text": [
      "      8\n",
      "    7\n",
      "      6\n",
      "  5\n",
      "      4\n",
      "    3\n",
      "      ∅\n",
      "2\n",
      "    ∅\n",
      "  3\n",
      "    1\n"
     ]
    }
   ],
   "source": [
    "display_keys(tree2, '  ')"
   ]
  },
  {
   "cell_type": "markdown",
   "id": "rocky-collar",
   "metadata": {
    "tags": []
   },
   "source": [
    "### 2.2.2 Traversing a Binary Tree 二叉树遍历\n",
    "\n",
    "A *traversal* refers to the process of visiting each node of a tree exactly once. _Visiting a node_ generally refers to adding the node's key to a list. There are three ways to traverse a binary tree and return the list of visited keys: \n",
    "\n",
    "#### 2.2.2.1 Inorder traversal 中序遍历\n",
    "**左子树-根-右子树**\n",
    "  1. Traverse the left subtree recursively inorder.\n",
    "  2. Traverse the current node.\n",
    "  3. Traverse the right subtree recursively inorder.\n",
    "  \n",
    "<img src=\"https://i.imgur.com/KCXpMA9.png\" width=\"540\">\n",
    "\n",
    "#### 2.2.2.2 Preorder traversal 前序遍历\n",
    "**根-左子树-右子树**\n",
    "  1. Traverse the current node.\n",
    "  2. Traverse the left subtree recursively preorder.\n",
    "  3. Traverse the right subtree recursively preorder.\n",
    "  \n",
    "<img src=\"https://i.imgur.com/2xrMUWP.png\" width=\"540\">\n",
    "\n",
    "#### 2.2.2.3 Postorder traveral 后序遍历\n",
    "**左子树-右子树-根**\n",
    "  1. Traverse the left subtree recursively postorder.\n",
    "  2. Traverse the right subtree recursively postorder.\n",
    "  3. Traverse the current node."
   ]
  },
  {
   "cell_type": "code",
   "execution_count": 29,
   "id": "8ada5166-3c14-4c15-99ce-4d3cdeae8a90",
   "metadata": {},
   "outputs": [],
   "source": [
    "def traverse_inorder(node):\n",
    "    if node is None:\n",
    "        return []\n",
    "    return (traverse_inorder(node.left) + \n",
    "            [node.key] +\n",
    "            traverse_inorder(node.right))"
   ]
  },
  {
   "cell_type": "code",
   "execution_count": 30,
   "id": "continent-twins",
   "metadata": {},
   "outputs": [
    {
     "data": {
      "text/plain": [
       "[1, 3, 2, 3, 4, 5, 6, 7, 8]"
      ]
     },
     "execution_count": 30,
     "metadata": {},
     "output_type": "execute_result"
    }
   ],
   "source": [
    "traverse_inorder(tree2)"
   ]
  },
  {
   "cell_type": "code",
   "execution_count": 31,
   "id": "7043c16b-8cd8-4e46-84a9-cb5800510a61",
   "metadata": {},
   "outputs": [],
   "source": [
    "def traverse_preorder(node):\n",
    "    if node is None:\n",
    "        return []\n",
    "    return ([node.key] +\n",
    "            traverse_preorder(node.left) +\n",
    "            traverse_preorder(node.right))"
   ]
  },
  {
   "cell_type": "code",
   "execution_count": 32,
   "id": "f3cb0163-5f06-49c8-b01f-d1d837b2cce1",
   "metadata": {},
   "outputs": [
    {
     "data": {
      "text/plain": [
       "[2, 3, 1, 5, 3, 4, 7, 6, 8]"
      ]
     },
     "execution_count": 32,
     "metadata": {},
     "output_type": "execute_result"
    }
   ],
   "source": [
    "traverse_preorder(tree2)"
   ]
  },
  {
   "cell_type": "code",
   "execution_count": 33,
   "id": "68b43b94-adba-4522-aa16-7471d17e81c9",
   "metadata": {},
   "outputs": [],
   "source": [
    "def traverse_postorder(node):\n",
    "    if node is None:\n",
    "        return []\n",
    "    return (traverse_postorder(node.left) +\n",
    "            traverse_postorder(node.right) +\n",
    "            [node.key])"
   ]
  },
  {
   "cell_type": "code",
   "execution_count": 34,
   "id": "7cec3668-a707-46a1-863d-abfb32b83180",
   "metadata": {},
   "outputs": [
    {
     "data": {
      "text/plain": [
       "[1, 3, 4, 3, 6, 8, 7, 5, 2]"
      ]
     },
     "execution_count": 34,
     "metadata": {},
     "output_type": "execute_result"
    }
   ],
   "source": [
    "traverse_postorder(tree2)"
   ]
  },
  {
   "cell_type": "markdown",
   "id": "9bc1d3bd-b7ae-44f7-856d-c83d4a6456b1",
   "metadata": {},
   "source": [
    "### 2.2.3 Height of a Binary Tree\n",
    "\n",
    "The number of levels in a tree is called its height. As you can tell from the picture above, each level of a tree contains twice as many nodes as the previous level. \n",
    "\n",
    "For a tree of height `k`, here's a list of the number of nodes at each level:\n",
    "\n",
    "Level 0: `1`\n",
    "\n",
    "Level 1: `2`\n",
    "\n",
    "Level 2: `4` i.e. `2^2`\n",
    "\n",
    "Level 3: `8` i.e. `2^3`\n",
    "\n",
    "...\n",
    "\n",
    "Level k-1: `2^(k-1)`\n",
    "\n",
    "If the total number of nodes in the tree is `N`, then it follows that\n",
    "\n",
    "```\n",
    "N = 1 + 2^1 + 2^2 + 2^3 + ... + 2^(k-1)\n",
    "```\n",
    "\n",
    "\n",
    "We can simplify this equation by adding `1` on each side:\n",
    "\n",
    "```\n",
    "N + 1 = 1 + 1 + 2^1 + 2^2 + 2^3 + ... + 2^(k-1) \n",
    "\n",
    "N + 1 = 2^1 + 2^1 + 2^2+ 2^3 + ... + 2^(k-1) \n",
    "\n",
    "N + 1 = = 2^2 + 2^2 + 2^3 + ... + 2^(k-1)\n",
    "\n",
    "N + 1 = = 2^3 + 2^3 + ... + 2^(k-1)\n",
    "\n",
    "...\n",
    "\n",
    "N + 1 = 2^(k-1) + 2^(k-1)\n",
    "\n",
    "N + 1 = 2^k\n",
    "\n",
    "k = log(N + 1) <= log(N) + 1 \n",
    "\n",
    "```\n",
    "\n",
    "Thus, to store `N` records we require a balanced binary search tree (BST) of height no larger than `log(N) + 1`. This is a very useful property, in combination with the fact that nodes are arranged in a way that makes it easy to find a specific key by following a single path down from the root. \n",
    "\n",
    "As we'll see soon, the `insert`, `find` and `update` operations in a balanced BST have time complexity `O(log N)` since they all involve traversing a single path down from the root of the tree."
   ]
  },
  {
   "cell_type": "markdown",
   "id": "vietnamese-difficulty",
   "metadata": {},
   "source": [
    "The _height/depth_ of a binary tree is defined as the length of the longest path from its root node to a leaf. It can be computed recursively, as follows:"
   ]
  },
  {
   "cell_type": "code",
   "execution_count": 35,
   "id": "21949a12-f08e-4401-a6ff-9c9e8b635c57",
   "metadata": {},
   "outputs": [],
   "source": [
    "def tree_height(node):\n",
    "    if node is None:\n",
    "        return 0\n",
    "    return 1+max(tree_height(node.left), tree_height(node.right))"
   ]
  },
  {
   "cell_type": "markdown",
   "id": "potential-jefferson",
   "metadata": {},
   "source": [
    "Let's compute the height of this tree:\n",
    "\n",
    "<img src=\"https://i.imgur.com/d7djJAf.png\" width=\"540\">"
   ]
  },
  {
   "cell_type": "code",
   "execution_count": 39,
   "id": "integrated-experiment",
   "metadata": {},
   "outputs": [
    {
     "data": {
      "text/plain": [
       "4"
      ]
     },
     "execution_count": 39,
     "metadata": {},
     "output_type": "execute_result"
    }
   ],
   "source": [
    "tree_height(tree2)"
   ]
  },
  {
   "cell_type": "markdown",
   "id": "collect-official",
   "metadata": {},
   "source": [
    "Here's a function to count the number of nodes in a binary tree."
   ]
  },
  {
   "cell_type": "code",
   "execution_count": 40,
   "id": "presidential-development",
   "metadata": {},
   "outputs": [],
   "source": [
    "def tree_size(node):\n",
    "    if node is None:\n",
    "        return 0\n",
    "    return 1 + tree_size(node.left) + tree_size(node.right)"
   ]
  },
  {
   "cell_type": "code",
   "execution_count": 42,
   "id": "significant-cheat",
   "metadata": {},
   "outputs": [
    {
     "data": {
      "text/plain": [
       "9"
      ]
     },
     "execution_count": 42,
     "metadata": {},
     "output_type": "execute_result"
    }
   ],
   "source": [
    "tree_size(tree2)"
   ]
  },
  {
   "cell_type": "markdown",
   "id": "painted-auditor",
   "metadata": {},
   "source": [
    "As a final step, let's compile all the functions we've written so far as methods withing the `TreeNode` class itself. Encapsulation of data and functionality within the same class is a good programming practice."
   ]
  },
  {
   "cell_type": "code",
   "execution_count": 47,
   "id": "secret-macintosh",
   "metadata": {},
   "outputs": [],
   "source": [
    "class TreeNode():\n",
    "    def __init__(self, key):\n",
    "        self.key, self.left, self.right = key, None, None\n",
    "    \n",
    "    def tree_height(self):\n",
    "        if self is None:\n",
    "            return 0\n",
    "        return 1+max(tree_height(self.left), tree_height(self.right))\n",
    "    \n",
    "    def tree_size(self):\n",
    "        if self is None:\n",
    "            return 0\n",
    "        return 1 + tree_size(self.left) + tree_size(self.right)\n",
    "\n",
    "    def traverse_inorder(self):\n",
    "        if self is None:\n",
    "            return []\n",
    "        return (traverse_inorder(self.left) + \n",
    "                [self.key] +\n",
    "                traverse_inorder(self.right))\n",
    "    \n",
    "    def display_keys(self, space='\\t', level=0):\n",
    "        '''display all keys of a node in a tree-like structrure'''\n",
    "        # if the node is empty\n",
    "        if self is None:\n",
    "            print(space*level + '∅')\n",
    "            return\n",
    "        # if the node is a leaf\n",
    "        if self.left is None and self.right is None:\n",
    "            print(space*level + str(self.key))\n",
    "            return\n",
    "        # if the node has children\n",
    "        display_keys(self.right, space, level+1)\n",
    "        print(space*level + str(self.key))\n",
    "        display_keys(self.left, space, level+1)  \n",
    "    \n",
    "    def tree_to_tuple(self):\n",
    "        '''convert a tree into a tuple'''\n",
    "        tree_tuple = ()\n",
    "        if self is None:\n",
    "            return None\n",
    "        elif self.left is None and self.right is None:\n",
    "            return self.key\n",
    "        return (tree_to_tuple(self.left), self.key, tree_to_tuple(self.right))\n",
    "    \n",
    "    def __str__(self):\n",
    "        return \"BinaryTree <{}>\".format(self.tree_to_tuple())\n",
    "    \n",
    "    def __repr__(self):\n",
    "        return \"BinaryTree <{}>\".format(self.tree_to_tuple())\n",
    "    \n",
    "    @staticmethod    \n",
    "    def parse_tuple(data):\n",
    "        '''convert a tuple into a binary tree'''\n",
    "        if isinstance(data, tuple) and len(data) == 3:\n",
    "            node = TreeNode(data[1])\n",
    "            node.left = parse_tuple(data[0])\n",
    "            node.right = parse_tuple(data[2])\n",
    "        elif data is None:\n",
    "            node = None\n",
    "        else:\n",
    "            node = TreeNode(data)\n",
    "        return node"
   ]
  },
  {
   "cell_type": "markdown",
   "id": "consolidated-language",
   "metadata": {},
   "source": [
    "Let's try out the various methods defined above for this tree:\n",
    "\n",
    "<img src=\"https://i.imgur.com/d7djJAf.png\" width=\"540\">"
   ]
  },
  {
   "cell_type": "code",
   "execution_count": 48,
   "id": "failing-chrome",
   "metadata": {},
   "outputs": [
    {
     "data": {
      "text/plain": [
       "((1, 3, None), 2, ((None, 3, 4), 5, (6, 7, 8)))"
      ]
     },
     "execution_count": 48,
     "metadata": {},
     "output_type": "execute_result"
    }
   ],
   "source": [
    "tree_tuple"
   ]
  },
  {
   "cell_type": "code",
   "execution_count": 49,
   "id": "extreme-filling",
   "metadata": {},
   "outputs": [],
   "source": [
    "tree = TreeNode.parse_tuple(tree_tuple)"
   ]
  },
  {
   "cell_type": "code",
   "execution_count": 50,
   "id": "dynamic-satellite",
   "metadata": {},
   "outputs": [
    {
     "data": {
      "text/plain": [
       "BinaryTree <((1, 3, None), 2, ((None, 3, 4), 5, (6, 7, 8)))>"
      ]
     },
     "execution_count": 50,
     "metadata": {},
     "output_type": "execute_result"
    }
   ],
   "source": [
    "tree"
   ]
  },
  {
   "cell_type": "code",
   "execution_count": 51,
   "id": "engaging-neutral",
   "metadata": {},
   "outputs": [
    {
     "name": "stdout",
     "output_type": "stream",
     "text": [
      "      8\n",
      "    7\n",
      "      6\n",
      "  5\n",
      "      4\n",
      "    3\n",
      "      ∅\n",
      "2\n",
      "    ∅\n",
      "  3\n",
      "    1\n"
     ]
    }
   ],
   "source": [
    "tree.display_keys('  ')"
   ]
  },
  {
   "cell_type": "code",
   "execution_count": 52,
   "id": "signal-decimal",
   "metadata": {},
   "outputs": [
    {
     "data": {
      "text/plain": [
       "4"
      ]
     },
     "execution_count": 52,
     "metadata": {},
     "output_type": "execute_result"
    }
   ],
   "source": [
    "tree.tree_height()"
   ]
  },
  {
   "cell_type": "code",
   "execution_count": 53,
   "id": "chinese-swimming",
   "metadata": {},
   "outputs": [
    {
     "data": {
      "text/plain": [
       "9"
      ]
     },
     "execution_count": 53,
     "metadata": {},
     "output_type": "execute_result"
    }
   ],
   "source": [
    "tree.tree_size()"
   ]
  },
  {
   "cell_type": "code",
   "execution_count": 54,
   "id": "hearing-network",
   "metadata": {},
   "outputs": [
    {
     "data": {
      "text/plain": [
       "[1, 3, 2, 3, 4, 5, 6, 7, 8]"
      ]
     },
     "execution_count": 54,
     "metadata": {},
     "output_type": "execute_result"
    }
   ],
   "source": [
    "tree.traverse_inorder()"
   ]
  },
  {
   "cell_type": "code",
   "execution_count": 55,
   "id": "protected-vermont",
   "metadata": {},
   "outputs": [
    {
     "data": {
      "text/plain": [
       "((1, 3, None), 2, ((None, 3, 4), 5, (6, 7, 8)))"
      ]
     },
     "execution_count": 55,
     "metadata": {},
     "output_type": "execute_result"
    }
   ],
   "source": [
    "tree.tree_to_tuple()"
   ]
  },
  {
   "cell_type": "markdown",
   "id": "dangerous-sweet",
   "metadata": {},
   "source": [
    "## 2.3 Binary Search Tree (BST)\n",
    "\n",
    "A binary search tree or BST is a binary tree that satisfies the following conditions:\n",
    "\n",
    "1. **The left subtree of any node only contains nodes with keys less than the node's key**\n",
    "2. **The right subtree of any node only contains nodes with keys greater than the node's key**\n",
    "\n",
    "### 2.3.1 Check the BST\n",
    "It follows from the above conditions that every subtree of a binary search tree must also be a binary search tree."
   ]
  },
  {
   "cell_type": "code",
   "execution_count": 62,
   "id": "silver-credit",
   "metadata": {},
   "outputs": [],
   "source": [
    "# check if a binary tree is a binary search tree (BST) and find the max and min key\n",
    "def remove_none(nums):\n",
    "    return [x for x in nums if x is not None]\n",
    "\n",
    "def is_bst(node):\n",
    "    '''check if a binary tree is BST and return max&min keys'''\n",
    "    if node is None:\n",
    "        return True, None, None\n",
    "    \n",
    "    is_bst_l, min_l, max_l = is_bst(node.left)\n",
    "    is_bst_r, min_r, max_r = is_bst(node.right)\n",
    "    \n",
    "    is_bst_node = (is_bst_l and is_bst_r and \n",
    "                  (max_l is None or max_l < node.key) and \n",
    "                  (min_r is None or min_r > node.key))\n",
    "    \n",
    "    min_key = min(remove_none([min_l, node.key, min_r]))\n",
    "    max_key = max(remove_none([max_l, node.key, max_r]))\n",
    "        \n",
    "    return is_bst_node, min_key, max_key"
   ]
  },
  {
   "cell_type": "markdown",
   "id": "consistent-concentrate",
   "metadata": {},
   "source": [
    "The following tree is not a BST (because a node with the key 3 appears in the left subtree of a node with the key 2):\n",
    "\n",
    "<img src=\"https://i.imgur.com/d7djJAf.png\" width=\"540\">\n",
    "\n",
    "Let's verify this using `is_bst`."
   ]
  },
  {
   "cell_type": "code",
   "execution_count": 63,
   "id": "innocent-triumph",
   "metadata": {},
   "outputs": [
    {
     "data": {
      "text/plain": [
       "(False, 1, 8)"
      ]
     },
     "execution_count": 63,
     "metadata": {},
     "output_type": "execute_result"
    }
   ],
   "source": [
    "is_bst(tree2)"
   ]
  },
  {
   "cell_type": "markdown",
   "id": "polish-offering",
   "metadata": {},
   "source": [
    "On the other hand, the following tree is a BST:\n",
    "\n",
    "<img src=\"https://i.imgur.com/JZeF9ix.png\" width=\"520\">\n",
    "\n",
    "Let's create this tree and verify that it is a BST. Note that the `TreeNode` class also supports using strings as keys, as strings support the comparison operators `<` and `>` too."
   ]
  },
  {
   "cell_type": "code",
   "execution_count": 64,
   "id": "about-kenya",
   "metadata": {},
   "outputs": [],
   "source": [
    "tree1 = TreeNode.parse_tuple((('aakash', 'biraj', 'hemanth')  , 'jadhesh', ('siddhant', 'sonaksh', 'vishal')))"
   ]
  },
  {
   "cell_type": "code",
   "execution_count": 65,
   "id": "7aff6a5e",
   "metadata": {},
   "outputs": [
    {
     "name": "stdout",
     "output_type": "stream",
     "text": [
      "\t\tvishal\n",
      "\tsonaksh\n",
      "\t\tsiddhant\n",
      "jadhesh\n",
      "\t\themanth\n",
      "\tbiraj\n",
      "\t\taakash\n"
     ]
    }
   ],
   "source": [
    "tree1.display_keys()"
   ]
  },
  {
   "cell_type": "code",
   "execution_count": 66,
   "id": "german-volleyball",
   "metadata": {},
   "outputs": [
    {
     "data": {
      "text/plain": [
       "(True, 'aakash', 'vishal')"
      ]
     },
     "execution_count": 66,
     "metadata": {},
     "output_type": "execute_result"
    }
   ],
   "source": [
    "is_bst(tree1)"
   ]
  },
  {
   "cell_type": "markdown",
   "id": "adjustable-upper",
   "metadata": {},
   "source": [
    "### 2.3.2 Storing Key-Value Pairs using BSTs\n",
    "Recall that we need to store user objects with each key in our BST. Let's define new class `BSTNode` to represent the nodes of of our tree. Apart from having properties `key`, `left` and `right`, we'll also store a `value` and pointer to the parent node (for easier upward traversal)."
   ]
  },
  {
   "cell_type": "code",
   "execution_count": 67,
   "id": "polish-maker",
   "metadata": {},
   "outputs": [],
   "source": [
    "class BSTNode():\n",
    "    def __init__(self, key, value=None):\n",
    "        self.key = key\n",
    "        self.value = value\n",
    "        self.left = None\n",
    "        self.right = None\n",
    "        self.parent = None"
   ]
  },
  {
   "cell_type": "markdown",
   "id": "literary-effect",
   "metadata": {},
   "source": [
    "Let's try to recreate this BST with usernames as keys and user objects as values:\n",
    "\n",
    "<img src=\"https://i.imgur.com/JZeF9ix.png\" width=\"520\">"
   ]
  },
  {
   "cell_type": "code",
   "execution_count": 68,
   "id": "theoretical-cleaner",
   "metadata": {},
   "outputs": [],
   "source": [
    "# Level 0\n",
    "tree = BSTNode(jadhesh.username, jadhesh)"
   ]
  },
  {
   "cell_type": "code",
   "execution_count": 69,
   "id": "homeless-welsh",
   "metadata": {},
   "outputs": [
    {
     "data": {
      "text/plain": [
       "('jadhesh',\n",
       " User(username='jadhesh', name='Jadhesh Verma', email='jadhesh@example.com'))"
      ]
     },
     "execution_count": 69,
     "metadata": {},
     "output_type": "execute_result"
    }
   ],
   "source": [
    "# View Level 0\n",
    "tree.key, tree.value"
   ]
  },
  {
   "cell_type": "code",
   "execution_count": 70,
   "id": "alternate-antenna",
   "metadata": {},
   "outputs": [],
   "source": [
    "# Level 1\n",
    "tree.left = BSTNode(biraj.username, biraj)\n",
    "tree.left.parent = tree\n",
    "tree.right = BSTNode(sonaksh.username, sonaksh)\n",
    "tree.right.parent = tree"
   ]
  },
  {
   "cell_type": "code",
   "execution_count": 71,
   "id": "assured-czech",
   "metadata": {},
   "outputs": [
    {
     "data": {
      "text/plain": [
       "('biraj',\n",
       " User(username='biraj', name='Biraj Das', email='biraj@example.com'),\n",
       " 'sonaksh',\n",
       " User(username='sonaksh', name='Sonaksh Kumar', email='sonaksh@example.com'))"
      ]
     },
     "execution_count": 71,
     "metadata": {},
     "output_type": "execute_result"
    }
   ],
   "source": [
    "# View Level 1\n",
    "tree.left.key, tree.left.value, tree.right.key, tree.right.value"
   ]
  },
  {
   "cell_type": "markdown",
   "id": "sporting-youth",
   "metadata": {},
   "source": [
    "**Exercise:** Add the next layer of nodes to the tree and verify that they were added properly."
   ]
  },
  {
   "cell_type": "code",
   "execution_count": 72,
   "id": "classical-trigger",
   "metadata": {},
   "outputs": [],
   "source": [
    "# Level 2\n",
    "tree.left.left = BSTNode(aakash.username, aakash)\n",
    "tree.left.left.parent = tree.left\n",
    "tree.left.right = BSTNode(hemanth.username, hemanth)\n",
    "tree.left.right.parent = tree.left\n",
    "tree.right.left = BSTNode(siddhant.username, siddhant)\n",
    "tree.right.left.parent = tree.right\n",
    "tree.right.right = BSTNode(vishal.username, vishal)\n",
    "tree.right.right.parent = tree.right"
   ]
  },
  {
   "cell_type": "markdown",
   "id": "drawn-coverage",
   "metadata": {},
   "source": [
    "We can use the same `display_keys` function we defined earlier to visualize our tree."
   ]
  },
  {
   "cell_type": "code",
   "execution_count": 73,
   "id": "living-therapist",
   "metadata": {},
   "outputs": [
    {
     "name": "stdout",
     "output_type": "stream",
     "text": [
      "\t\tvishal\n",
      "\tsonaksh\n",
      "\t\tsiddhant\n",
      "jadhesh\n",
      "\t\themanth\n",
      "\tbiraj\n",
      "\t\taakash\n"
     ]
    }
   ],
   "source": [
    "display_keys(tree)"
   ]
  },
  {
   "cell_type": "markdown",
   "id": "latin-discharge",
   "metadata": {},
   "source": [
    "### 2.3.3 Insertion into BST\n",
    "We use the BST-property to perform insertion efficiently: \n",
    "\n",
    "1. Starting from the root node, we compare the key to be inserted with the current node's key\n",
    "2. If the key is smaller, we recursively insert it in the left subtree (if it exists) or attach it as as the left child if no left subtree exists.\n",
    "3. If the key is larger, we recursively insert it in the right subtree (if it exists) or attach it as as the right child if no right subtree exists."
   ]
  },
  {
   "cell_type": "code",
   "execution_count": 74,
   "id": "technical-parks",
   "metadata": {},
   "outputs": [],
   "source": [
    "def insert(node, key, value):\n",
    "    if node is None:\n",
    "        node = BSTNode(key, value)\n",
    "    elif key < node.key:\n",
    "        node.left = insert(node.left, key, value)\n",
    "        node.left.parent = node\n",
    "    elif key > node.key:\n",
    "        node.right = insert(node.right, key, value)\n",
    "        node.right.parent = node\n",
    "    return node"
   ]
  },
  {
   "cell_type": "markdown",
   "id": "registered-cocktail",
   "metadata": {},
   "source": [
    "Let's use this to recreate our tree.\n",
    "\n",
    "<img src=\"https://i.imgur.com/JZeF9ix.png\" width=\"520\">\n",
    "\n",
    "To create the first node, we can use the `insert` function with `None` as the target tree."
   ]
  },
  {
   "cell_type": "code",
   "execution_count": 75,
   "id": "skilled-quantum",
   "metadata": {},
   "outputs": [],
   "source": [
    "tree = insert(None, jadhesh.username, jadhesh)"
   ]
  },
  {
   "cell_type": "markdown",
   "id": "authorized-beijing",
   "metadata": {},
   "source": [
    "The remaining nodes can now be inserted into `tree`."
   ]
  },
  {
   "cell_type": "code",
   "execution_count": 76,
   "id": "egyptian-category",
   "metadata": {},
   "outputs": [
    {
     "data": {
      "text/plain": [
       "<__main__.BSTNode at 0x7fbb517a5f10>"
      ]
     },
     "execution_count": 76,
     "metadata": {},
     "output_type": "execute_result"
    }
   ],
   "source": [
    "insert(tree, biraj.username, biraj)\n",
    "insert(tree, sonaksh.username, sonaksh)\n",
    "insert(tree, aakash.username, aakash)\n",
    "insert(tree, hemanth.username, hemanth)\n",
    "insert(tree, siddhant.username, siddhant)\n",
    "insert(tree, vishal.username, siddhant)"
   ]
  },
  {
   "cell_type": "code",
   "execution_count": 77,
   "id": "romance-sullivan",
   "metadata": {},
   "outputs": [
    {
     "name": "stdout",
     "output_type": "stream",
     "text": [
      "\t\tvishal\n",
      "\tsonaksh\n",
      "\t\tsiddhant\n",
      "jadhesh\n",
      "\t\themanth\n",
      "\tbiraj\n",
      "\t\taakash\n"
     ]
    }
   ],
   "source": [
    "display_keys(tree)"
   ]
  },
  {
   "cell_type": "markdown",
   "id": "inappropriate-stream",
   "metadata": {},
   "source": [
    "Note, however, that the order of insertion of nodes change the structure of the resulting tree."
   ]
  },
  {
   "cell_type": "code",
   "execution_count": 78,
   "id": "martial-batch",
   "metadata": {},
   "outputs": [
    {
     "data": {
      "text/plain": [
       "<__main__.BSTNode at 0x7fbb517a5d30>"
      ]
     },
     "execution_count": 78,
     "metadata": {},
     "output_type": "execute_result"
    }
   ],
   "source": [
    "tree2 = insert(None, aakash.username, aakash)\n",
    "insert(tree2, biraj.username, biraj)\n",
    "insert(tree2, hemanth.username, hemanth)\n",
    "insert(tree2, jadhesh.username, jadhesh)\n",
    "insert(tree2, siddhant.username, siddhant)\n",
    "insert(tree2, sonaksh.username, sonaksh)\n",
    "insert(tree2, vishal.username, vishal)"
   ]
  },
  {
   "cell_type": "code",
   "execution_count": 79,
   "id": "julian-scholarship",
   "metadata": {},
   "outputs": [
    {
     "name": "stdout",
     "output_type": "stream",
     "text": [
      "\t\t\t\t\t\tvishal\n",
      "\t\t\t\t\tsonaksh\n",
      "\t\t\t\t\t\t∅\n",
      "\t\t\t\tsiddhant\n",
      "\t\t\t\t\t∅\n",
      "\t\t\tjadhesh\n",
      "\t\t\t\t∅\n",
      "\t\themanth\n",
      "\t\t\t∅\n",
      "\tbiraj\n",
      "\t\t∅\n",
      "aakash\n",
      "\t∅\n"
     ]
    }
   ],
   "source": [
    "display_keys(tree2)"
   ]
  },
  {
   "cell_type": "markdown",
   "id": "enormous-block",
   "metadata": {},
   "source": [
    "Can you see why the tree created above is skewed/unbalanced?\n",
    "\n",
    "<img src=\"https://i.imgur.com/lP5Thct.png\" width=\"520\">\n",
    "\n",
    "Skewed/unbalanced BSTs are problematic because the height of such trees often ceases to logarithmic compared to the number of nodes in the tree. For instance the above tree has 7 nodes and height 7.\n",
    "\n",
    "**The length of the path traversed by `insert` is equal to the height of the tree (in the worst case). It follows that if the tree is balanced, the time complexity of insertion is `O(log N)` otherwise it is `O(N)`.**"
   ]
  },
  {
   "cell_type": "code",
   "execution_count": 80,
   "id": "changing-trunk",
   "metadata": {},
   "outputs": [
    {
     "data": {
      "text/plain": [
       "7"
      ]
     },
     "execution_count": 80,
     "metadata": {},
     "output_type": "execute_result"
    }
   ],
   "source": [
    "tree_height(tree2)"
   ]
  },
  {
   "cell_type": "markdown",
   "id": "affecting-hormone",
   "metadata": {},
   "source": [
    "### 2.3.4 Finding a Node in BST\n",
    "We can follow a recursive strategy similar to insertion to find the node with a given key within a BST."
   ]
  },
  {
   "cell_type": "code",
   "execution_count": 81,
   "id": "bizarre-concentrate",
   "metadata": {},
   "outputs": [],
   "source": [
    "def find(node, key):\n",
    "    if node is None:\n",
    "        return None\n",
    "    if key == node.key:\n",
    "        return node\n",
    "    if key < node.key:\n",
    "        return find(node.left, key)\n",
    "    if key > node.key:\n",
    "        return find(node.right, key)"
   ]
  },
  {
   "cell_type": "markdown",
   "id": "governmental-chocolate",
   "metadata": {},
   "source": [
    "<img src=\"https://i.imgur.com/dzDszlw.png\" width=\"520\">"
   ]
  },
  {
   "cell_type": "code",
   "execution_count": 82,
   "id": "chemical-switzerland",
   "metadata": {},
   "outputs": [],
   "source": [
    "node = find(tree, 'hemanth')"
   ]
  },
  {
   "cell_type": "code",
   "execution_count": 83,
   "id": "adjacent-advisory",
   "metadata": {},
   "outputs": [
    {
     "data": {
      "text/plain": [
       "('hemanth',\n",
       " User(username='hemanth', name='Hemanth Jain', email='hemanth@example.com'))"
      ]
     },
     "execution_count": 83,
     "metadata": {},
     "output_type": "execute_result"
    }
   ],
   "source": [
    "node.key, node.value"
   ]
  },
  {
   "cell_type": "markdown",
   "id": "gentle-bosnia",
   "metadata": {},
   "source": [
    "The the length of the path followed by `find` is equal to the height of the tree (in the worst case). Thus it has a similar time complexity as `insert`."
   ]
  },
  {
   "cell_type": "markdown",
   "id": "fuzzy-general",
   "metadata": {},
   "source": [
    "### 2.3.5 Updating a value in a BST\n",
    "We can use `find` to locate the node to be updated, and simply update it's value."
   ]
  },
  {
   "cell_type": "code",
   "execution_count": 84,
   "id": "unlikely-geneva",
   "metadata": {},
   "outputs": [],
   "source": [
    "def update(node, key, value):\n",
    "    target = find(node, key)\n",
    "    if target is not None:\n",
    "        target.value = value"
   ]
  },
  {
   "cell_type": "code",
   "execution_count": 85,
   "id": "requested-medicine",
   "metadata": {},
   "outputs": [],
   "source": [
    "update(tree, 'hemanth', User('hemanth', 'Hemanth J', 'hemanthj@example.com'))"
   ]
  },
  {
   "cell_type": "code",
   "execution_count": 86,
   "id": "serious-lithuania",
   "metadata": {},
   "outputs": [
    {
     "data": {
      "text/plain": [
       "User(username='hemanth', name='Hemanth J', email='hemanthj@example.com')"
      ]
     },
     "execution_count": 86,
     "metadata": {},
     "output_type": "execute_result"
    }
   ],
   "source": [
    "node = find(tree, 'hemanth')\n",
    "node.value"
   ]
  },
  {
   "cell_type": "markdown",
   "id": "neutral-effects",
   "metadata": {},
   "source": [
    "The value of the node was successfully updated. The time complexity of `update` is the same as that of `find`."
   ]
  },
  {
   "cell_type": "markdown",
   "id": "dramatic-bleeding",
   "metadata": {},
   "source": [
    "### 2.3.6 List the nodes\n",
    "The nodes can be listed in sorted order by performing an inorder traversal of the BST."
   ]
  },
  {
   "cell_type": "code",
   "execution_count": 87,
   "id": "independent-contrary",
   "metadata": {},
   "outputs": [],
   "source": [
    "def list_all(node):\n",
    "    if node is None:\n",
    "        return []\n",
    "    return list_all(node.left) + [(node.key, node.value)] + list_all(node.right)"
   ]
  },
  {
   "cell_type": "code",
   "execution_count": 88,
   "id": "acquired-japan",
   "metadata": {},
   "outputs": [
    {
     "data": {
      "text/plain": [
       "[('aakash',\n",
       "  User(username='aakash', name='Aakash Rai', email='aakash@example.com')),\n",
       " ('biraj',\n",
       "  User(username='biraj', name='Biraj Das', email='biraj@example.com')),\n",
       " ('hemanth',\n",
       "  User(username='hemanth', name='Hemanth J', email='hemanthj@example.com')),\n",
       " ('jadhesh',\n",
       "  User(username='jadhesh', name='Jadhesh Verma', email='jadhesh@example.com')),\n",
       " ('siddhant',\n",
       "  User(username='siddhant', name='Siddhant U', email='siddhantu@example.com')),\n",
       " ('sonaksh',\n",
       "  User(username='sonaksh', name='Sonaksh Kumar', email='sonaksh@example.com')),\n",
       " ('vishal',\n",
       "  User(username='siddhant', name='Siddhant U', email='siddhantu@example.com'))]"
      ]
     },
     "execution_count": 88,
     "metadata": {},
     "output_type": "execute_result"
    }
   ],
   "source": [
    "list_all(tree)"
   ]
  },
  {
   "cell_type": "markdown",
   "id": "traditional-disclaimer",
   "metadata": {},
   "source": [
    "The time complexity and space complexity of `list_all` are **O(N) and O(1)**"
   ]
  },
  {
   "cell_type": "markdown",
   "id": "constitutional-charleston",
   "metadata": {},
   "source": [
    "## 2.4 Balanced Trees\n",
    "### 2.4.1 Balanced Binary Trees\n",
    "To check a binary tree is balanced, here's a recursive strategy:\n",
    "\n",
    "1. Ensure that the left subtree is balanced.\n",
    "2. Ensure that the right subtree is balanced.\n",
    "3. Ensure that the difference between heights of left subtree and right subtree is not more than 1."
   ]
  },
  {
   "cell_type": "code",
   "execution_count": 89,
   "id": "downtown-isaac",
   "metadata": {},
   "outputs": [],
   "source": [
    "def is_balanced(node):\n",
    "    if node is None:\n",
    "        return True, 0\n",
    "    balanced_l, height_l = is_balanced(node.left)\n",
    "    balanced_r, height_r = is_balanced(node.right)\n",
    "    balanced = balanced_l and balanced_r and abs(height_l - height_r) <=1\n",
    "    height = 1 + max(height_l, height_r)\n",
    "    return balanced, height"
   ]
  },
  {
   "cell_type": "markdown",
   "id": "polar-calculator",
   "metadata": {},
   "source": [
    "The following tree is balanced:\n",
    "\n",
    "<img src=\"https://i.imgur.com/JZeF9ix.png\" width=\"520\">"
   ]
  },
  {
   "cell_type": "code",
   "execution_count": 93,
   "id": "bigger-movie",
   "metadata": {},
   "outputs": [
    {
     "data": {
      "text/plain": [
       "(True, 3)"
      ]
     },
     "execution_count": 93,
     "metadata": {},
     "output_type": "execute_result"
    }
   ],
   "source": [
    "is_balanced(tree)"
   ]
  },
  {
   "cell_type": "markdown",
   "id": "institutional-board",
   "metadata": {},
   "source": [
    "The following tree is not balanced:\n",
    "\n",
    "<img src=\"https://i.imgur.com/lP5Thct.png\" width=\"520\">"
   ]
  },
  {
   "cell_type": "code",
   "execution_count": 94,
   "id": "coordinated-selection",
   "metadata": {},
   "outputs": [
    {
     "data": {
      "text/plain": [
       "(False, 7)"
      ]
     },
     "execution_count": 94,
     "metadata": {},
     "output_type": "execute_result"
    }
   ],
   "source": [
    "is_balanced(tree2)"
   ]
  },
  {
   "cell_type": "markdown",
   "id": "juvenile-coating",
   "metadata": {},
   "source": [
    "### 2.4.2 Balanced Binary Search Trees\n",
    "\n",
    "> **QUESTION**: Write a function to create a balanced BST from a sorted list/array of key-value pairs.\n",
    "\n",
    "We can use a recursive strategy here, turning the middle element of the list into the root, and recursively creating left and right subtrees.\n"
   ]
  },
  {
   "cell_type": "code",
   "execution_count": 95,
   "id": "equivalent-nerve",
   "metadata": {},
   "outputs": [],
   "source": [
    "def make_balanced_bst(data, lo=0, hi=None, parent=None):\n",
    "    if hi is None:\n",
    "        hi = len(data) - 1\n",
    "    if lo > hi:\n",
    "        return None\n",
    "    \n",
    "    mid = (lo + hi) // 2\n",
    "    key, value = data[mid]\n",
    "\n",
    "    root = BSTNode(key, value)\n",
    "    root.parent = parent\n",
    "    root.left = make_balanced_bst(data, lo, mid-1, root)\n",
    "    root.right = make_balanced_bst(data, mid+1, hi, root)\n",
    "    \n",
    "    return root"
   ]
  },
  {
   "cell_type": "code",
   "execution_count": 96,
   "id": "casual-payroll",
   "metadata": {},
   "outputs": [
    {
     "data": {
      "text/plain": [
       "[('aakash',\n",
       "  User(username='aakash', name='Aakash Rai', email='aakash@example.com')),\n",
       " ('biraj',\n",
       "  User(username='biraj', name='Biraj Das', email='biraj@example.com')),\n",
       " ('hemanth',\n",
       "  User(username='hemanth', name='Hemanth Jain', email='hemanth@example.com')),\n",
       " ('jadhesh',\n",
       "  User(username='jadhesh', name='Jadhesh Verma', email='jadhesh@example.com')),\n",
       " ('siddhant',\n",
       "  User(username='siddhant', name='Siddhant U', email='siddhantu@example.com')),\n",
       " ('sonaksh',\n",
       "  User(username='sonaksh', name='Sonaksh Kumar', email='sonaksh@example.com')),\n",
       " ('vishal',\n",
       "  User(username='vishal', name='Vishal Goel', email='vishal@example.com'))]"
      ]
     },
     "execution_count": 96,
     "metadata": {},
     "output_type": "execute_result"
    }
   ],
   "source": [
    "data = [(user.username, user) for user in users]\n",
    "data"
   ]
  },
  {
   "cell_type": "code",
   "execution_count": 97,
   "id": "opened-establishment",
   "metadata": {},
   "outputs": [],
   "source": [
    "tree = make_balanced_bst(data)"
   ]
  },
  {
   "cell_type": "code",
   "execution_count": 98,
   "id": "statistical-alert",
   "metadata": {},
   "outputs": [
    {
     "name": "stdout",
     "output_type": "stream",
     "text": [
      "\t\tvishal\n",
      "\tsonaksh\n",
      "\t\tsiddhant\n",
      "jadhesh\n",
      "\t\themanth\n",
      "\tbiraj\n",
      "\t\taakash\n"
     ]
    }
   ],
   "source": [
    "display_keys(tree)"
   ]
  },
  {
   "cell_type": "markdown",
   "id": "pleasant-hepatitis",
   "metadata": {},
   "source": [
    "<img src=\"https://i.imgur.com/JZeF9ix.png\" width=\"520\">\n",
    "\n",
    "Recall that the same list of users, when inserted one-by-one resulted in a skewed tree."
   ]
  },
  {
   "cell_type": "markdown",
   "id": "b09293e8-6432-4871-9089-56b72361a8c3",
   "metadata": {},
   "source": [
    "### 2.4.3 Balancing an Unbalanced BST\n",
    "\n",
    "> **QUESTION** Write a function to balance an unbalanced binary search tree.\n",
    "\n",
    "We first perform an inorder traversal, then create a balanced BST using the function defined earlier."
   ]
  },
  {
   "cell_type": "code",
   "execution_count": 99,
   "id": "pregnant-binding",
   "metadata": {},
   "outputs": [],
   "source": [
    "tree3 = None\n",
    "for username, user in data:\n",
    "    tree3 = insert(tree3, username, user)"
   ]
  },
  {
   "cell_type": "code",
   "execution_count": 100,
   "id": "measured-graduate",
   "metadata": {},
   "outputs": [
    {
     "name": "stdout",
     "output_type": "stream",
     "text": [
      "\t\t\t\t\t\tvishal\n",
      "\t\t\t\t\tsonaksh\n",
      "\t\t\t\t\t\t∅\n",
      "\t\t\t\tsiddhant\n",
      "\t\t\t\t\t∅\n",
      "\t\t\tjadhesh\n",
      "\t\t\t\t∅\n",
      "\t\themanth\n",
      "\t\t\t∅\n",
      "\tbiraj\n",
      "\t\t∅\n",
      "aakash\n",
      "\t∅\n"
     ]
    }
   ],
   "source": [
    "display_keys(tree3)"
   ]
  },
  {
   "cell_type": "code",
   "execution_count": 101,
   "id": "enclosed-criterion",
   "metadata": {},
   "outputs": [],
   "source": [
    "def balance_bst(node):\n",
    "    return make_balanced_bst(list_all(node))"
   ]
  },
  {
   "cell_type": "code",
   "execution_count": 102,
   "id": "naval-arrangement",
   "metadata": {},
   "outputs": [],
   "source": [
    "tree4 = balance_bst(tree3)"
   ]
  },
  {
   "cell_type": "code",
   "execution_count": 104,
   "id": "compatible-family",
   "metadata": {},
   "outputs": [
    {
     "name": "stdout",
     "output_type": "stream",
     "text": [
      "\t\tvishal\n",
      "\tsonaksh\n",
      "\t\tsiddhant\n",
      "jadhesh\n",
      "\t\themanth\n",
      "\tbiraj\n",
      "\t\taakash\n"
     ]
    }
   ],
   "source": [
    "display_keys(tree4)"
   ]
  },
  {
   "cell_type": "markdown",
   "id": "elegant-passenger",
   "metadata": {},
   "source": [
    "After every insertion, we can balance the tree. This way the tree will remain balanced.\n",
    "\n",
    "**Complexity of the various operations in a balanced BST:**\n",
    "\n",
    "* Insert - O(log N) + O(N) = O(N)\n",
    "* Find - O(log N)\n",
    "* Update - O(log N)\n",
    "* List all - O(N)"
   ]
  },
  {
   "cell_type": "markdown",
   "id": "lesbian-detector",
   "metadata": {},
   "source": [
    "## 2.4 A Python-Friendly Treemap \n",
    "\n",
    "We are now ready to return to our original problem statement.\n",
    "\n",
    "> **QUESTION 1**: As a senior backend engineer at Jovian, you are tasked with developing a fast in-memory data structure to manage profile information (username, name and email) for 100 million users. It should allow the following operations to be performed efficiently:\n",
    "> \n",
    "> 1. **Insert** the profile information for a new user.\n",
    "> 2. **Find** the profile information of a user, given their username\n",
    "> 3. **Update** the profile information of a user, given their usrname\n",
    "> 5. **List** all the users of the platform, sorted by username\n",
    ">\n",
    "> You can assume that usernames are unique. \n",
    "\n",
    "\n",
    "\n",
    "We can create a generic class `TreeMap` which supports all the operations specified in the original problem statement in a python-friendly manner."
   ]
  },
  {
   "cell_type": "code",
   "execution_count": 106,
   "id": "global-aberdeen",
   "metadata": {},
   "outputs": [],
   "source": [
    "class TreeMap():\n",
    "    def __init__(self):\n",
    "        self.root = None\n",
    "        \n",
    "    def __setitem__(self, key, value):\n",
    "        node = find(self.root, key)\n",
    "        if not node:\n",
    "            self.root = insert(self.root, key, value)\n",
    "            self.root = balance_bst(self.root)\n",
    "        else:\n",
    "            update(self.root, key, value)\n",
    "            \n",
    "        \n",
    "    def __getitem__(self, key):\n",
    "        node = find(self.root, key)\n",
    "        return node.value if node else None\n",
    "    \n",
    "    def __iter__(self):\n",
    "        return (x for x in list_all(self.root))\n",
    "    \n",
    "    def __len__(self):\n",
    "        return tree_size(self.root)\n",
    "    \n",
    "    def display(self):\n",
    "        return display_keys(self.root)"
   ]
  },
  {
   "cell_type": "markdown",
   "id": "loaded-deposit",
   "metadata": {},
   "source": [
    "Let's try using the `TreeMap` class below."
   ]
  },
  {
   "cell_type": "code",
   "execution_count": 107,
   "id": "creative-assessment",
   "metadata": {},
   "outputs": [
    {
     "data": {
      "text/plain": [
       "[User(username='aakash', name='Aakash Rai', email='aakash@example.com'),\n",
       " User(username='biraj', name='Biraj Das', email='biraj@example.com'),\n",
       " User(username='hemanth', name='Hemanth Jain', email='hemanth@example.com'),\n",
       " User(username='jadhesh', name='Jadhesh Verma', email='jadhesh@example.com'),\n",
       " User(username='siddhant', name='Siddhant U', email='siddhantu@example.com'),\n",
       " User(username='sonaksh', name='Sonaksh Kumar', email='sonaksh@example.com'),\n",
       " User(username='vishal', name='Vishal Goel', email='vishal@example.com')]"
      ]
     },
     "execution_count": 107,
     "metadata": {},
     "output_type": "execute_result"
    }
   ],
   "source": [
    "users"
   ]
  },
  {
   "cell_type": "code",
   "execution_count": 108,
   "id": "dedicated-airfare",
   "metadata": {},
   "outputs": [],
   "source": [
    "treemap = TreeMap()"
   ]
  },
  {
   "cell_type": "code",
   "execution_count": 109,
   "id": "organic-vampire",
   "metadata": {},
   "outputs": [
    {
     "name": "stdout",
     "output_type": "stream",
     "text": [
      "∅\n"
     ]
    }
   ],
   "source": [
    "treemap.display()"
   ]
  },
  {
   "cell_type": "code",
   "execution_count": 110,
   "id": "proper-brain",
   "metadata": {},
   "outputs": [],
   "source": [
    "treemap['aakash'] = aakash\n",
    "treemap['jadhesh'] = jadhesh\n",
    "treemap['sonaksh'] = sonaksh"
   ]
  },
  {
   "cell_type": "code",
   "execution_count": 111,
   "id": "mathematical-sender",
   "metadata": {},
   "outputs": [
    {
     "name": "stdout",
     "output_type": "stream",
     "text": [
      "\tsonaksh\n",
      "jadhesh\n",
      "\taakash\n"
     ]
    }
   ],
   "source": [
    "treemap.display()"
   ]
  },
  {
   "cell_type": "code",
   "execution_count": 112,
   "id": "crude-lobby",
   "metadata": {},
   "outputs": [
    {
     "data": {
      "text/plain": [
       "User(username='jadhesh', name='Jadhesh Verma', email='jadhesh@example.com')"
      ]
     },
     "execution_count": 112,
     "metadata": {},
     "output_type": "execute_result"
    }
   ],
   "source": [
    "treemap['jadhesh']"
   ]
  },
  {
   "cell_type": "code",
   "execution_count": 113,
   "id": "running-disposition",
   "metadata": {},
   "outputs": [
    {
     "data": {
      "text/plain": [
       "3"
      ]
     },
     "execution_count": 113,
     "metadata": {},
     "output_type": "execute_result"
    }
   ],
   "source": [
    "len(treemap)"
   ]
  },
  {
   "cell_type": "code",
   "execution_count": 114,
   "id": "victorian-contractor",
   "metadata": {},
   "outputs": [],
   "source": [
    "treemap['biraj'] = biraj\n",
    "treemap['hemanth'] = hemanth\n",
    "treemap['siddhant'] = siddhant\n",
    "treemap['vishal'] = vishal"
   ]
  },
  {
   "cell_type": "code",
   "execution_count": 115,
   "id": "offensive-notice",
   "metadata": {},
   "outputs": [
    {
     "name": "stdout",
     "output_type": "stream",
     "text": [
      "\t\tvishal\n",
      "\tsonaksh\n",
      "\t\tsiddhant\n",
      "jadhesh\n",
      "\t\themanth\n",
      "\tbiraj\n",
      "\t\taakash\n"
     ]
    }
   ],
   "source": [
    "treemap.display()"
   ]
  },
  {
   "cell_type": "code",
   "execution_count": 116,
   "id": "south-hazard",
   "metadata": {},
   "outputs": [
    {
     "name": "stdout",
     "output_type": "stream",
     "text": [
      "aakash User(username='aakash', name='Aakash Rai', email='aakash@example.com')\n",
      "biraj User(username='biraj', name='Biraj Das', email='biraj@example.com')\n",
      "hemanth User(username='hemanth', name='Hemanth Jain', email='hemanth@example.com')\n",
      "jadhesh User(username='jadhesh', name='Jadhesh Verma', email='jadhesh@example.com')\n",
      "siddhant User(username='siddhant', name='Siddhant U', email='siddhantu@example.com')\n",
      "sonaksh User(username='sonaksh', name='Sonaksh Kumar', email='sonaksh@example.com')\n",
      "vishal User(username='vishal', name='Vishal Goel', email='vishal@example.com')\n"
     ]
    }
   ],
   "source": [
    "for key, value in treemap:\n",
    "    print(key, value)"
   ]
  },
  {
   "cell_type": "code",
   "execution_count": 117,
   "id": "dominant-sector",
   "metadata": {},
   "outputs": [
    {
     "data": {
      "text/plain": [
       "[('aakash',\n",
       "  User(username='aakash', name='Aakash Rai', email='aakash@example.com')),\n",
       " ('biraj',\n",
       "  User(username='biraj', name='Biraj Das', email='biraj@example.com')),\n",
       " ('hemanth',\n",
       "  User(username='hemanth', name='Hemanth Jain', email='hemanth@example.com')),\n",
       " ('jadhesh',\n",
       "  User(username='jadhesh', name='Jadhesh Verma', email='jadhesh@example.com')),\n",
       " ('siddhant',\n",
       "  User(username='siddhant', name='Siddhant U', email='siddhantu@example.com')),\n",
       " ('sonaksh',\n",
       "  User(username='sonaksh', name='Sonaksh Kumar', email='sonaksh@example.com')),\n",
       " ('vishal',\n",
       "  User(username='vishal', name='Vishal Goel', email='vishal@example.com'))]"
      ]
     },
     "execution_count": 117,
     "metadata": {},
     "output_type": "execute_result"
    }
   ],
   "source": [
    "list(treemap)"
   ]
  },
  {
   "cell_type": "code",
   "execution_count": 118,
   "id": "large-freedom",
   "metadata": {},
   "outputs": [],
   "source": [
    "treemap['aakash'] = User(username='aakash', name='Aakash N S', email='aakashns@example.com')"
   ]
  },
  {
   "cell_type": "code",
   "execution_count": 119,
   "id": "tropical-advice",
   "metadata": {},
   "outputs": [
    {
     "data": {
      "text/plain": [
       "User(username='aakash', name='Aakash N S', email='aakashns@example.com')"
      ]
     },
     "execution_count": 119,
     "metadata": {},
     "output_type": "execute_result"
    }
   ],
   "source": [
    "treemap['aakash']"
   ]
  },
  {
   "cell_type": "markdown",
   "id": "meaning-phrase",
   "metadata": {},
   "source": [
    "## 2.5 Self-Balancing Binary Trees and AVL Trees\n",
    "\n",
    "A *self-balancing binary tree* remains balanced after every insertion or deletion. Several decades of research has gone into creating self-balancing binary trees, and many approaches have been devised e.g. B-trees, Red Black Trees and  AVL (Adelson-Velsky Landis) trees.\n",
    "\n",
    "We'll take a brief look at AVL trees. Self-balancing in AVL trees is achieved by tracking the *balance factor* (difference between the height of the left subtree and the right subtree) for each node and *rotating* unbalanced subtrees along the path of insertion/deletion to balance them.\n",
    "\n",
    "![](https://upload.wikimedia.org/wikipedia/commons/f/fd/AVL_Tree_Example.gif)\n",
    "\n",
    "In a balanced BST, the balance factor of each node is either 0, -1, or 1. When we perform an insertion, then the balance factor of certain nodes along the path of insertion may change to 2 or -2. Those nodes can be \"rotated\" one-by-one to bring the balance factor back to 1, 0 or -1. \n",
    "\n",
    "There are 4 different scenarios for balancing, two of which require a single rotation, while the others require 2 rotations:\n",
    "\n",
    "\n",
    "![](https://s3.amazonaws.com/hr-challenge-images/0/1436854305-b167cc766c-AVL_Tree_Rebalancing.svg.png)\n",
    "\n",
    "Source: [HackerRank](https://www.hackerrank.com/challenges/self-balancing-tree/problem)\n",
    "\n",
    "Since each rotation takes constant time, and at most `log N` rotations may be required, this operation is far more efficient than creating a balanced binary tree from scratch, allowing insertion and deletion to be performed in `O (log N)` time. Here are some references for AVL Trees:\n",
    "\n",
    "* Explanation of the various cases: https://youtu.be/jDM6_TnYIqE?t=482\n",
    "* Implementation: https://www.geeksforgeeks.org/avl-tree-set-1-insertion/\n"
   ]
  },
  {
   "cell_type": "markdown",
   "id": "persistent-rating",
   "metadata": {},
   "source": [
    "## Summary and Exercises\n",
    "\n",
    "![](https://i.imgur.com/lVqP63n.png)\n",
    "\n",
    "Binary trees form the basis of many modern programming language features (e.g. maps in C++ and Java) and data storage systems (filesystem indexes, relational databases like MySQL). You might wonder if dictionaries in Python are also binary search trees. They're not. They're hash tables, which is a different but equally interesting and important data structure. We'll explore hash tables in a future tutorial.\n",
    "\n",
    "\n",
    "\n",
    "\n",
    "\n",
    "\n",
    "We've covered a lot of ground this in this tutorial, including several common interview questions. Here are a few more problems you can try out:\n",
    "\n",
    "1. Implement rotations and self-balancing insertion\n",
    "1. Implement deletion of a node from a binary search tree\n",
    "2. Implement deletion of a node from a BST (with balancing)\n",
    "3. Find the lowest common ancestor of two nodes in a tree (Hint: Use the `parent` property)\n",
    "4. Find the next node in lexicographic order for a given node\n",
    "5. Given a number k, find the k-th node in a BST.\n",
    "\n",
    "Try more questions here: \n",
    "\n",
    "* https://medium.com/techie-delight/binary-tree-interview-questions-and-practice-problems-439df7e5ea1f\n",
    "* https://leetcode.com/tag/tree/\n",
    "\n",
    "\n",
    "\n",
    "\n"
   ]
  }
 ],
 "metadata": {
  "kernelspec": {
   "display_name": "Python 3 (ipykernel)",
   "language": "python",
   "name": "python3"
  },
  "language_info": {
   "codemirror_mode": {
    "name": "ipython",
    "version": 3
   },
   "file_extension": ".py",
   "mimetype": "text/x-python",
   "name": "python",
   "nbconvert_exporter": "python",
   "pygments_lexer": "ipython3",
   "version": "3.9.12"
  },
  "toc-autonumbering": false,
  "toc-showcode": false,
  "toc-showmarkdowntxt": false
 },
 "nbformat": 4,
 "nbformat_minor": 5
}
