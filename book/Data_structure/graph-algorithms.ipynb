{
 "cells": [
  {
   "cell_type": "markdown",
   "id": "de0ad2c0-aef6-42d3-b9d5-56cf5feb0066",
   "metadata": {},
   "source": [
    "# 5 Grpah Algorithms\n",
    "## 5.1 Graph Data Structure\n",
    "![](https://i.imgur.com/xkgMnwx.png)"
   ]
  },
  {
   "cell_type": "code",
   "execution_count": 1,
   "id": "890936f7-a2c5-44a8-ab15-97445e0fe5f4",
   "metadata": {},
   "outputs": [
    {
     "data": {
      "text/plain": [
       "(5, 7)"
      ]
     },
     "execution_count": 1,
     "metadata": {},
     "output_type": "execute_result"
    }
   ],
   "source": [
    "num_nodes = 5\n",
    "edges = [(0,1),(0,4),(1,2),(1,3),(1,4),(2,3),(3,4)]\n",
    "num_nodes, len(edges)"
   ]
  },
  {
   "cell_type": "markdown",
   "id": "3394d47d-4c5a-4dc2-a32c-75920378ab1f",
   "metadata": {},
   "source": [
    "### 5.1.1 Adjacency List 相邻nodes\n",
    "实际上就是将edges以list形式存下来，用于后续的使用\n",
    "\n",
    "![](https://i.imgur.com/rgMwkIW.png)\n",
    "\n",
    "> **Question**: Create a class to represent a graph as an adjacency list in Python"
   ]
  },
  {
   "cell_type": "code",
   "execution_count": 5,
   "id": "17d7545e-28b1-4b2d-b9f1-c83db66736b9",
   "metadata": {},
   "outputs": [],
   "source": [
    "class Graph:\n",
    "    def __init__(self, num_nodes, edges):\n",
    "        self.num_nodes = num_nodes\n",
    "        self.adj_list = [[] for _ in range(self.num_nodes)]\n",
    "        for n1,n2 in edges:\n",
    "            self.adj_list[n1].append(n2)\n",
    "            self.adj_list[n2].append(n1)\n",
    "            \n",
    "    def __repr__(self):\n",
    "        return \"\\n\".join([\"{}: {}\\n\".format(n, neighbour) for (n, neighbour) in enumerate(self.adj_list)])\n",
    "    \n",
    "    def __str__(self):\n",
    "        return self.__repr__()"
   ]
  },
  {
   "cell_type": "code",
   "execution_count": 6,
   "id": "2d1c604f-34ed-407a-9325-ef511d365b81",
   "metadata": {},
   "outputs": [
    {
     "data": {
      "text/plain": [
       "0: [1, 4]\n",
       "\n",
       "1: [0, 2, 3, 4]\n",
       "\n",
       "2: [1, 3]\n",
       "\n",
       "3: [1, 2, 4]\n",
       "\n",
       "4: [0, 1, 3]"
      ]
     },
     "execution_count": 6,
     "metadata": {},
     "output_type": "execute_result"
    }
   ],
   "source": [
    "graph1 = Graph(num_nodes, edges)\n",
    "graph1"
   ]
  },
  {
   "cell_type": "markdown",
   "id": "32bfbe57-5124-442c-b610-1f5f6d9d941e",
   "metadata": {},
   "source": [
    "> **Question**: \\\n",
    "Write a function to add an edge to a graph represented as an adjacency list. \\\n",
    "Write a function to remove an edge from a graph represented as a adjacency list.\n"
   ]
  },
  {
   "cell_type": "code",
   "execution_count": 7,
   "id": "9c7ad557-643a-4d25-9ac4-18c56eded9f7",
   "metadata": {},
   "outputs": [],
   "source": [
    "def add_edge(graph, new_edge):\n",
    "    n1,n2 = new_edge[0], new_edge[1]\n",
    "    graph.adj_list[n1].append(n2)\n",
    "    graph.adj_list[n2].append(n1)\n",
    "    return graph\n",
    "\n",
    "def remove_edge(graph, edge):\n",
    "    n1,n2 = edge[0], edge[1]\n",
    "    graph.adj_list[n1].remove(n2)\n",
    "    graph.adj_list[n2].remove(n1)\n",
    "    return graph"
   ]
  },
  {
   "cell_type": "code",
   "execution_count": 8,
   "id": "35e60ff0-f625-49f5-a4bc-1d0d48f722a5",
   "metadata": {},
   "outputs": [
    {
     "data": {
      "text/plain": [
       "0: [1, 4, 2]\n",
       "\n",
       "1: [0, 2, 3, 4]\n",
       "\n",
       "2: [1, 3, 0]\n",
       "\n",
       "3: [1, 2, 4]\n",
       "\n",
       "4: [0, 1, 3]"
      ]
     },
     "execution_count": 8,
     "metadata": {},
     "output_type": "execute_result"
    }
   ],
   "source": [
    "add_edge(graph1, (0,2))"
   ]
  },
  {
   "cell_type": "code",
   "execution_count": 9,
   "id": "83fb39ef-077a-47af-9065-b1f542037df1",
   "metadata": {},
   "outputs": [
    {
     "data": {
      "text/plain": [
       "0: [1, 4]\n",
       "\n",
       "1: [0, 2, 3, 4]\n",
       "\n",
       "2: [1, 3]\n",
       "\n",
       "3: [1, 2, 4]\n",
       "\n",
       "4: [0, 1, 3]"
      ]
     },
     "execution_count": 9,
     "metadata": {},
     "output_type": "execute_result"
    }
   ],
   "source": [
    "remove_edge(graph1, (0,2))"
   ]
  },
  {
   "cell_type": "markdown",
   "id": "5a110188-abb3-4d07-be24-c4e9fcdb7f82",
   "metadata": {},
   "source": [
    "### 5.1.2 Adjacency Matrix\n",
    "\n",
    "![](https://i.imgur.com/oswYKTW.png)\n",
    "\n",
    "> **Question**: Represent a graph as an adjacency matrix in Python"
   ]
  },
  {
   "cell_type": "code",
   "execution_count": 12,
   "id": "ac0ad558-59e4-4ebb-9324-299f422fbd11",
   "metadata": {},
   "outputs": [],
   "source": [
    "class Graph:\n",
    "    def __init__(self, num_nodes, edges):\n",
    "        self.num_nodes = num_nodes\n",
    "        \n",
    "        self.adj_list = [[] for _ in range(self.num_nodes)]\n",
    "        for n1,n2 in edges:\n",
    "            self.adj_list[n1].append(n2)\n",
    "            self.adj_list[n2].append(n1)\n",
    "            \n",
    "        self.adj_matrix = [[0]*num_nodes for _ in range(self.num_nodes)]\n",
    "        for n1,n2 in edges:\n",
    "            self.adj_matrix[n1][n2] = 1\n",
    "            self.adj_matrix[n2][n1] = 1\n",
    "            \n",
    "    def __repr__(self):\n",
    "        return \"\\n\".join([\"{}: {}\\n\".format(n, neighbour) for (n, neighbour) in enumerate(self.adj_list)])\n",
    "    \n",
    "    def __str__(self):\n",
    "        return self.__repr__()"
   ]
  },
  {
   "cell_type": "code",
   "execution_count": 13,
   "id": "6967af21-70d3-4b4f-b7a1-c6a0a2428b0f",
   "metadata": {},
   "outputs": [
    {
     "data": {
      "text/plain": [
       "[[0, 1, 0, 0, 1],\n",
       " [1, 0, 1, 1, 1],\n",
       " [0, 1, 0, 1, 0],\n",
       " [0, 1, 1, 0, 1],\n",
       " [1, 1, 0, 1, 0]]"
      ]
     },
     "execution_count": 13,
     "metadata": {},
     "output_type": "execute_result"
    }
   ],
   "source": [
    "graph1 = Graph(num_nodes, edges)\n",
    "graph1.adj_matrix"
   ]
  },
  {
   "cell_type": "markdown",
   "id": "b6fd966a-d610-41aa-94f5-ac3fc4025ff0",
   "metadata": {},
   "source": [
    "### 5.1.3 Weighted/Directed Graph\n",
    "- Weighted Graph:\n",
    "\n",
    "![](https://i.imgur.com/wy7ZHRW.png)\n"
   ]
  },
  {
   "cell_type": "code",
   "execution_count": 17,
   "id": "e55ba2a7-3fc1-4383-b682-c57c1b1cf072",
   "metadata": {},
   "outputs": [
    {
     "data": {
      "text/plain": [
       "(9, 10)"
      ]
     },
     "execution_count": 17,
     "metadata": {},
     "output_type": "execute_result"
    }
   ],
   "source": [
    "# Graph with weights\n",
    "num_nodes2 = 9\n",
    "edges2 = [(0, 1, 3), (0, 3, 2), (0, 8, 4), (1, 7, 4), (2, 7, 2), (2, 3, 6), \n",
    "          (2, 5, 1), (3, 4, 1), (4, 8, 8), (5, 6, 8)]\n",
    "\n",
    "num_nodes2, len(edges2)"
   ]
  },
  {
   "cell_type": "markdown",
   "id": "1dc4987d-8bab-473e-99e3-1955d77a4194",
   "metadata": {},
   "source": [
    "- Directed Graph:\n",
    "\n",
    "<img src=\"https://i.imgur.com/8AN7EUV.png\" width=\"480\">"
   ]
  },
  {
   "cell_type": "code",
   "execution_count": 18,
   "id": "7725aec3-d7c3-485b-bfc3-41c788d365e5",
   "metadata": {},
   "outputs": [
    {
     "data": {
      "text/plain": [
       "(5, 6)"
      ]
     },
     "execution_count": 18,
     "metadata": {},
     "output_type": "execute_result"
    }
   ],
   "source": [
    "num_nodes3 = 5\n",
    "edges3 = [(0, 1), (1, 2), (2, 3), (2, 4), (4, 2), (3, 0)]\n",
    "num_nodes3, len(edges3)"
   ]
  },
  {
   "cell_type": "code",
   "execution_count": 24,
   "id": "af2b1726-dacd-4c67-9014-090b711cb6a0",
   "metadata": {},
   "outputs": [],
   "source": [
    "class Graph:\n",
    "    def __init__(self, num_nodes, edges, weighted = False, directed = False):\n",
    "        self.num_nodes = num_nodes\n",
    "        self.weighted = weighted\n",
    "        self.directed = directed\n",
    "        \n",
    "        self.adj_list = [[] for _ in range(self.num_nodes)]\n",
    "        if not self.weighted:\n",
    "            for n1,n2 in edges:\n",
    "                self.adj_list[n1].append(n2)\n",
    "                if not self.directed:\n",
    "                    self.adj_list[n2].append(n1)\n",
    "            \n",
    "            self.adj_matrix = [[0]*num_nodes for _ in range(self.num_nodes)]\n",
    "            for n1,n2 in edges:\n",
    "                self.adj_matrix[n1][n2] = 1\n",
    "                if not self.directed:\n",
    "                    self.adj_matrix[n2][n1] = 1\n",
    "        else:\n",
    "            self.weights = [[] for _ in range(self.num_nodes)]\n",
    "            for n1,n2,weight in edges:\n",
    "                self.adj_list[n1].append(n2)\n",
    "                self.weights[n1].append(weight)\n",
    "                if not self.directed:\n",
    "                    self.adj_list[n2].append(n1)\n",
    "                    self.weights[n2].append(weight)\n",
    "            \n",
    "    def __repr__(self):\n",
    "        result = \"\"\n",
    "        if self.weighted:\n",
    "            for i, (nodes, weights) in enumerate(zip(self.adj_list, self.weights)):\n",
    "                result += \"{}: {}\\n\".format(i, list(zip(nodes, weights)))\n",
    "        else:\n",
    "            for i, nodes in enumerate(self.adj_list):\n",
    "                result += \"{}: {}\\n\".format(i, nodes)\n",
    "        return result\n",
    "    \n",
    "    def __str__(self):\n",
    "        return self.__repr__()"
   ]
  },
  {
   "cell_type": "code",
   "execution_count": 25,
   "id": "95a211c5-7917-4181-a9e8-be2d2692517d",
   "metadata": {},
   "outputs": [
    {
     "data": {
      "text/plain": [
       "0: [(1, 3), (3, 2), (8, 4)]\n",
       "1: [(0, 3), (7, 4)]\n",
       "2: [(7, 2), (3, 6), (5, 1)]\n",
       "3: [(0, 2), (2, 6), (4, 1)]\n",
       "4: [(3, 1), (8, 8)]\n",
       "5: [(2, 1), (6, 8)]\n",
       "6: [(5, 8)]\n",
       "7: [(1, 4), (2, 2)]\n",
       "8: [(0, 4), (4, 8)]"
      ]
     },
     "execution_count": 25,
     "metadata": {},
     "output_type": "execute_result"
    }
   ],
   "source": [
    "graph2 = Graph(num_nodes2, edges2, weighted = True)\n",
    "graph2"
   ]
  },
  {
   "cell_type": "code",
   "execution_count": 27,
   "id": "3afe3beb-8a45-463e-b8ed-69b622332019",
   "metadata": {},
   "outputs": [
    {
     "data": {
      "text/plain": [
       "0: [1]\n",
       "1: [2]\n",
       "2: [3, 4]\n",
       "3: [0]\n",
       "4: [2]"
      ]
     },
     "execution_count": 27,
     "metadata": {},
     "output_type": "execute_result"
    }
   ],
   "source": [
    "graph3 = Graph(num_nodes3, edges3, directed = True)\n",
    "graph3"
   ]
  },
  {
   "cell_type": "markdown",
   "id": "23c70932-cddb-46b6-85f5-4aa54d993d39",
   "metadata": {},
   "source": [
    "## 5.2 Graph Traversal\n",
    "### 5.2.1 Breadth-first search 广度优先搜索\n",
    "\n",
    "A real-world graph:\n",
    "\n",
    "![](https://upload.wikimedia.org/wikipedia/commons/thumb/a/ad/MapGermanyGraph.svg/500px-MapGermanyGraph.svg.png)\n",
    "\n",
    "Breadth-fist search tree (starting from Frankfurt):\n",
    "\n",
    "![](https://upload.wikimedia.org/wikipedia/commons/thumb/6/63/GermanyBFS.svg/500px-GermanyBFS.svg.png)\n"
   ]
  },
  {
   "cell_type": "markdown",
   "id": "6a582854-0d68-4b65-8eaa-ce9ef4e80c03",
   "metadata": {},
   "source": [
    "BFS pseudocode (Wikipedia):\n",
    "\n",
    "```\n",
    " 1  procedure BFS(G, root) is\n",
    " 2      let Q be a queue\n",
    " 3      label root as discovered\n",
    " 4      Q.enqueue(root)\n",
    " 5      while Q is not empty do\n",
    " 6          v := Q.dequeue()\n",
    " 7          if v is the goal then\n",
    " 8              return v\n",
    " 9          for all edges from v to w in G.adjacentEdges(v) do\n",
    "10              if w is not labeled as discovered then\n",
    "11                  label w as discovered\n",
    "12                  Q.enqueue(w)\n",
    "```\n",
    "<img src=\"https://cdn.programiz.com/sites/tutorial2program/files/queue-implementation.png\" width=\"400\">"
   ]
  },
  {
   "cell_type": "markdown",
   "id": "4daea0cb-2b7c-421a-8165-a802f3501de2",
   "metadata": {},
   "source": [
    "> **Question**: Implement breadth-first search given a source node in a graph using Python.\n",
    "\n",
    "<img src=\"https://i.imgur.com/E2Up1Pk.png\" width=\"400\">"
   ]
  },
  {
   "cell_type": "code",
   "execution_count": 28,
   "id": "9ca84a15-53cd-4a18-b385-0beb7306ab23",
   "metadata": {},
   "outputs": [],
   "source": [
    "def bfs(graph, root):\n",
    "    queue = []\n",
    "    visited = [False] * graph.num_nodes\n",
    "    distance = [None] * graph.num_nodes\n",
    "    parent = [None] * graph.num_nodes\n",
    "    \n",
    "    visited[root] = True\n",
    "    distance[root] = 0\n",
    "    queue.append(root)\n",
    "    idx = 0\n",
    "    \n",
    "    while idx < len(queue):\n",
    "        current = queue[idx]\n",
    "        for node in graph.adj_list[current]:\n",
    "            if not visited[node]:\n",
    "                queue.append(node)\n",
    "                visited[node] = True\n",
    "                distance[node] = 1+distance[current]\n",
    "                parent[node] = current\n",
    "        idx += 1\n",
    "    \n",
    "    return queue, distance, parent"
   ]
  },
  {
   "cell_type": "code",
   "execution_count": 30,
   "id": "5510bbb1-376f-4fe1-9c19-82728e35d557",
   "metadata": {},
   "outputs": [
    {
     "data": {
      "text/plain": [
       "([0, 1, 4, 2, 3], [0, 1, 2, 2, 1], [None, 0, 1, 1, 0])"
      ]
     },
     "execution_count": 30,
     "metadata": {},
     "output_type": "execute_result"
    }
   ],
   "source": [
    "bfs(graph1, 0)"
   ]
  },
  {
   "cell_type": "markdown",
   "id": "89bffd67-1ddd-46e8-8edd-dba560fb28e0",
   "metadata": {},
   "source": [
    "### 5.2.2 Depth-first Search 深度优先搜索\n",
    "## Depth-first search\n",
    "\n",
    "![](https://upload.wikimedia.org/wikipedia/commons/thumb/7/7f/Depth-First-Search.gif/440px-Depth-First-Search.gif)\n",
    "\n",
    "DFS pseudocode (Wikipedia):\n",
    "\n",
    "```\n",
    "procedure DFS_iterative(G, v) is\n",
    "    let S be a stack\n",
    "    S.push(v)\n",
    "    while S is not empty do\n",
    "        v = S.pop()\n",
    "        if v is not labeled as discovered then\n",
    "            label v as discovered\n",
    "            for all edges from v to w in G.adjacentEdges(v) do \n",
    "                S.push(w)\n",
    "```\n",
    "<img src=\"https://cdn.programiz.com/sites/tutorial2program/files/stack.png\" width=\"400\">"
   ]
  },
  {
   "cell_type": "markdown",
   "id": "956bb899-aebb-417c-8365-c1366c01b76d",
   "metadata": {},
   "source": [
    "> **Question**: Implement depth first search from a given node in a graph using Python.\n",
    "\n",
    "<img src=\"https://i.imgur.com/E2Up1Pk.png\" width=\"400\">"
   ]
  },
  {
   "cell_type": "code",
   "execution_count": 31,
   "id": "27c6036f-938b-42e6-b0c2-72db8949b124",
   "metadata": {},
   "outputs": [],
   "source": [
    "def dfs(graph, root):\n",
    "    stack = [root]\n",
    "    visited = [False] * graph.num_nodes\n",
    "    result = []\n",
    "    \n",
    "    while len(stack) > 0:\n",
    "        current = stack.pop()\n",
    "        if not visited[current]:\n",
    "            visited[current] = True\n",
    "            result.append(current)\n",
    "            for node in graph.adj_list[current]:\n",
    "                if not visited[node]:\n",
    "                    stack.append(node)\n",
    "    \n",
    "    return result"
   ]
  },
  {
   "cell_type": "code",
   "execution_count": 32,
   "id": "863a2d5c-22d2-4c7e-a03d-0d3f90d60a8f",
   "metadata": {},
   "outputs": [
    {
     "data": {
      "text/plain": [
       "[0, 4, 3, 2, 1]"
      ]
     },
     "execution_count": 32,
     "metadata": {},
     "output_type": "execute_result"
    }
   ],
   "source": [
    "dfs(graph1,0)"
   ]
  },
  {
   "cell_type": "markdown",
   "id": "c0fd1a47-31e7-4b6f-a66c-16c77f4d1893",
   "metadata": {},
   "source": [
    "### 5.2.3 Comparision and Complexity\n",
    "Time complexity are both $O(n+e)$, where $n$ is the number of node and $e$ is the number of edges.\n",
    "\n",
    "[Comparison of BFS and DFS](https://www.geeksforgeeks.org/difference-between-bfs-and-dfs/)"
   ]
  },
  {
   "cell_type": "markdown",
   "id": "95e47782-2efb-4c6e-a380-2067b33f27da",
   "metadata": {},
   "source": [
    "## 5.3 Shortest Paths\n",
    "\n",
    "\n",
    "> **Question**: Write a function to find the length of the shortest path between two nodes in a weighted directed graph.\n",
    "\n",
    "<img src=\"https://i.imgur.com/Zn5cUkO.png\" width=\"480\">\n",
    "\n",
    "\n",
    "**Dijkstra's algorithm (Wikipedia)**:\n",
    "\n",
    "![](https://upload.wikimedia.org/wikipedia/commons/5/57/Dijkstra_Animation.gif)\n",
    "\n",
    "1. Mark all nodes unvisited. Create a set of all the unvisited nodes called the unvisited set.\n",
    "2. Assign to every node a tentative distance value: set it to zero for our initial node and to infinity for all other nodes. Set the initial node as current.[16]\n",
    "3. For the current node, consider all of its unvisited neighbours and calculate their tentative distances through the current node. Compare the newly calculated tentative distance to the current assigned value and assign the smaller one. For example, if the current node A is marked with a distance of 6, and the edge connecting it with a neighbour B has length 2, then the distance to B through A will be 6 + 2 = 8. If B was previously marked with a distance greater than 8 then change it to 8. Otherwise, the current value will be kept.\n",
    "4. When we are done considering all of the unvisited neighbours of the current node, mark the current node as visited and remove it from the unvisited set. A visited node will never be checked again.\n",
    "5. If the destination node has been marked visited (when planning a route between two specific nodes) or if the smallest tentative distance among the nodes in the unvisited set is infinity (when planning a complete traversal; occurs when there is no connection between the initial node and remaining unvisited nodes), then stop. The algorithm has finished.\n",
    "6. Otherwise, select the unvisited node that is marked with the smallest tentative distance, set it as the new \"current node\", and go back to step 3."
   ]
  },
  {
   "cell_type": "code",
   "execution_count": 33,
   "id": "dd3ae562-cbe4-4b8e-b74e-f9484bd8b98e",
   "metadata": {},
   "outputs": [],
   "source": [
    "def update_distances(graph, current, distance, visited):\n",
    "    neighbours = graph.adj_list[current]\n",
    "    weights = graph.weights[current]\n",
    "    \n",
    "    for i, neighbour in enumerate(neighbours):\n",
    "        if not visited[neighbour]:\n",
    "            distance[neighbour] = min(distance[neighbour],\n",
    "                                      weights[i] + distance[current])\n",
    "\n",
    "def pick_next_node(visited, distance):\n",
    "    min_distance = float(\"inf\")\n",
    "    min_node = None\n",
    "    for node,distance in enumerate(distance):\n",
    "        if not visited[node] and distance < min_distance:\n",
    "            min_distance = distance\n",
    "            min_node = node\n",
    "    return min_node\n",
    "\n",
    "def shortest_path(graph, root, dest):\n",
    "    visited = [False] * graph.num_nodes\n",
    "    distance = [float('infinity')] * graph.num_nodes\n",
    "\n",
    "    distance[root] = 0\n",
    "    queue = [root]\n",
    "    idx = 0\n",
    "    \n",
    "    while not visited[dest] and idx < len(graph.adj_list):\n",
    "        current = queue[idx]\n",
    "        update_distances(graph, current, distance, visited)\n",
    "        visited[current] = True\n",
    "        next_node = pick_next_node(visited, distance)\n",
    "        if next_node is not None:\n",
    "            queue.append(next_node)\n",
    "            \n",
    "        idx += 1\n",
    "        \n",
    "    return distance[dest]"
   ]
  },
  {
   "cell_type": "code",
   "execution_count": 34,
   "id": "6874385a-00d7-46d6-be0c-3743fe29d468",
   "metadata": {},
   "outputs": [
    {
     "data": {
      "text/plain": [
       "0: [(1, 4), (2, 2)]\n",
       "1: [(2, 5), (3, 10)]\n",
       "2: [(4, 3)]\n",
       "3: [(5, 11)]\n",
       "4: [(3, 4)]\n",
       "5: []"
      ]
     },
     "execution_count": 34,
     "metadata": {},
     "output_type": "execute_result"
    }
   ],
   "source": [
    "num_nodes = 6\n",
    "edges = [(0, 1, 4), (0, 2, 2), (1, 2, 5), (1, 3, 10), (2, 4, 3), (4, 3, 4), (3, 5, 11)]\n",
    "graph = Graph(num_nodes, edges, weighted = True, directed = True)\n",
    "graph"
   ]
  },
  {
   "cell_type": "code",
   "execution_count": 35,
   "id": "0b1e2204-6783-4b0b-b0fb-64d2c81ec1d2",
   "metadata": {},
   "outputs": [
    {
     "data": {
      "text/plain": [
       "20"
      ]
     },
     "execution_count": 35,
     "metadata": {},
     "output_type": "execute_result"
    }
   ],
   "source": [
    "shortest_path(graph,0,5)"
   ]
  }
 ],
 "metadata": {
  "kernelspec": {
   "display_name": "Python 3 (ipykernel)",
   "language": "python",
   "name": "python3"
  },
  "language_info": {
   "codemirror_mode": {
    "name": "ipython",
    "version": 3
   },
   "file_extension": ".py",
   "mimetype": "text/x-python",
   "name": "python",
   "nbconvert_exporter": "python",
   "pygments_lexer": "ipython3",
   "version": "3.9.12"
  }
 },
 "nbformat": 4,
 "nbformat_minor": 5
}
