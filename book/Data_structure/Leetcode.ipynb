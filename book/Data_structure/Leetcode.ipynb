{
 "cells": [
  {
   "cell_type": "markdown",
   "id": "64205b21-3a49-4bfb-be54-4ece80b0401f",
   "metadata": {},
   "source": [
    "## 34. Find First and Last Position of Element in Sorted Array"
   ]
  },
  {
   "cell_type": "code",
   "execution_count": 2,
   "id": "333b5ef2-9538-4ebe-ae7a-7830bcdd145c",
   "metadata": {},
   "outputs": [],
   "source": [
    "def searchRange(self, nums, target):\n",
    "    lo, hi = 0, len(nums)-1\n",
    "    \n",
    "    def first_position(lo, hi, target):\n",
    "        while lo<=hi:\n",
    "            mid = (lo+hi)//2\n",
    "            if nums[mid] == target:\n",
    "                if mid-1>=0 and nums[mid-1] == target:\n",
    "                    hi = mid-1\n",
    "                else:\n",
    "                    return mid\n",
    "            elif nums[mid] > target:\n",
    "                hi = mid-1\n",
    "            elif nums[mid] < target:\n",
    "                lo = mid+1\n",
    "            \n",
    "        return -1\n",
    "    \n",
    "    def last_position(lo, hi, target):\n",
    "        while lo<=hi:\n",
    "            mid = (lo+hi)//2\n",
    "            if nums[mid] == target:\n",
    "                if mid+1<=hi and nums[mid+1] == target:\n",
    "                    lo = mid+1\n",
    "                else:\n",
    "                    return mid\n",
    "            elif nums[mid] > target:\n",
    "                hi = mid-1\n",
    "            elif nums[mid] < target:\n",
    "                lo = mid+1\n",
    "            \n",
    "        return -1 \n",
    "    \n",
    "    return([first_position(lo, hi, target), last_position(lo, hi, target)])"
   ]
  },
  {
   "cell_type": "markdown",
   "id": "edec5f96-7b71-4478-8b5d-7445dd6faf47",
   "metadata": {},
   "source": [
    "## 704. Binary Search"
   ]
  },
  {
   "cell_type": "code",
   "execution_count": 3,
   "id": "1b57a814-89bc-492f-a524-345afe99c483",
   "metadata": {},
   "outputs": [],
   "source": [
    "def search(self, nums, target):\n",
    "    lo, hi = 0, len(nums)-1\n",
    "    \n",
    "    while lo <= hi:\n",
    "        mid = (lo+hi)//2\n",
    "        if nums[mid] == target:\n",
    "            if mid-1>=0 and nums[mid-1]==target:\n",
    "                hi = mid-1\n",
    "            else:\n",
    "                return mid\n",
    "        elif nums[mid] < target:\n",
    "            lo = mid+1\n",
    "        elif nums[mid] > target:\n",
    "            hi = mid-1\n",
    "            \n",
    "    return -1"
   ]
  }
 ],
 "metadata": {
  "kernelspec": {
   "display_name": "Python 3 (ipykernel)",
   "language": "python",
   "name": "python3"
  },
  "language_info": {
   "codemirror_mode": {
    "name": "ipython",
    "version": 3
   },
   "file_extension": ".py",
   "mimetype": "text/x-python",
   "name": "python",
   "nbconvert_exporter": "python",
   "pygments_lexer": "ipython3",
   "version": "3.9.12"
  }
 },
 "nbformat": 4,
 "nbformat_minor": 5
}
