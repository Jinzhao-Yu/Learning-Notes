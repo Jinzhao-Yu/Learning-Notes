{
 "cells": [
  {
   "cell_type": "markdown",
   "id": "daed265d-0b34-43a8-a0ea-31cf84c4556e",
   "metadata": {},
   "source": [
    "# Pytorch Tensor Tutorial\n",
    "Initializing tensors, math, indexing, reshaping\n",
    "## Tensor Initialization"
   ]
  },
  {
   "cell_type": "code",
   "execution_count": 1,
   "id": "7b12b4fa-f942-4fec-b229-4e33546a0f16",
   "metadata": {},
   "outputs": [
    {
     "name": "stdout",
     "output_type": "stream",
     "text": [
      "tensor([[1., 2., 3.],\n",
      "        [4., 5., 6.]], requires_grad=True)\n"
     ]
    }
   ],
   "source": [
    "import torch\n",
    "\n",
    "# create a tensor\n",
    "device = \"cuda\" if torch.cuda.is_available() else \"cpu\" # if we have a GPU then use it\n",
    "\n",
    "my_tensor = torch.tensor([[1, 2, 3], [4, 5, 6]], # 2 rows and 3 columns\n",
    "                         dtype=torch.float32, # float32 type\n",
    "                         device=device, requires_grad=True) # default device = \"cpu\"\n",
    "print(my_tensor)"
   ]
  },
  {
   "cell_type": "markdown",
   "id": "406aa112-de29-4f43-a78d-058a4a81355a",
   "metadata": {},
   "source": [
    "We can see the attributes of a tensor like below, which we have defined when initialiazation."
   ]
  },
  {
   "cell_type": "code",
   "execution_count": 2,
   "id": "044bf253-9f47-4c8a-958c-ec3a07ad73eb",
   "metadata": {},
   "outputs": [
    {
     "name": "stdout",
     "output_type": "stream",
     "text": [
      "torch.float32\n",
      "cpu\n",
      "torch.Size([2, 3])\n",
      "True\n"
     ]
    }
   ],
   "source": [
    "print(my_tensor.dtype)\n",
    "print(my_tensor.device)\n",
    "print(my_tensor.shape)\n",
    "print(my_tensor.requires_grad)"
   ]
  },
  {
   "cell_type": "markdown",
   "id": "c813cfff-3463-4220-a5ca-f7bbbbcf7caa",
   "metadata": {},
   "source": [
    "Other initialization methods:"
   ]
  },
  {
   "cell_type": "code",
   "execution_count": 3,
   "id": "6417fd0a-29bb-4867-a60a-11221d4d9d0c",
   "metadata": {},
   "outputs": [
    {
     "name": "stdout",
     "output_type": "stream",
     "text": [
      "tensor([[ 0.0000e+00, -1.0842e-19,  7.2784e-17],\n",
      "        [-2.0005e+00,  2.3594e+00,  4.5898e-41],\n",
      "        [ 3.9081e+00,  4.5898e-41,  3.9110e+19]])\n"
     ]
    }
   ],
   "source": [
    "x = torch.empty(size = (3, 3)) # random values\n",
    "print(x)"
   ]
  },
  {
   "cell_type": "code",
   "execution_count": 4,
   "id": "7a5fd2bd-a47d-407f-8b50-a4dccadcb9dc",
   "metadata": {},
   "outputs": [
    {
     "name": "stdout",
     "output_type": "stream",
     "text": [
      "tensor([[0., 0., 0.],\n",
      "        [0., 0., 0.],\n",
      "        [0., 0., 0.]])\n"
     ]
    }
   ],
   "source": [
    "x = torch.zeros((3, 3)) # zeros values\n",
    "print(x)"
   ]
  },
  {
   "cell_type": "code",
   "execution_count": 5,
   "id": "f9bbe60e-5280-4f6c-803d-b62ad78451e6",
   "metadata": {},
   "outputs": [
    {
     "name": "stdout",
     "output_type": "stream",
     "text": [
      "tensor([[0.6710, 0.7784, 0.0981],\n",
      "        [0.2184, 0.1089, 0.1406],\n",
      "        [0.6998, 0.3420, 0.0784]])\n"
     ]
    }
   ],
   "source": [
    "x = torch.rand((3, 3)) # random values in [0,1]\n",
    "print(x)"
   ]
  },
  {
   "cell_type": "code",
   "execution_count": 6,
   "id": "4dd274e9-7c13-4b16-abcc-8358ded854d9",
   "metadata": {},
   "outputs": [
    {
     "name": "stdout",
     "output_type": "stream",
     "text": [
      "tensor([[1., 1., 1.],\n",
      "        [1., 1., 1.],\n",
      "        [1., 1., 1.]])\n"
     ]
    }
   ],
   "source": [
    "x = torch.ones((3, 3)) # ones values\n",
    "print(x)"
   ]
  },
  {
   "cell_type": "code",
   "execution_count": 7,
   "id": "d7a5a211-2be4-4583-aeea-cbc214a78ff6",
   "metadata": {},
   "outputs": [
    {
     "name": "stdout",
     "output_type": "stream",
     "text": [
      "tensor([[1., 0., 0., 0., 0.],\n",
      "        [0., 1., 0., 0., 0.],\n",
      "        [0., 0., 1., 0., 0.],\n",
      "        [0., 0., 0., 1., 0.],\n",
      "        [0., 0., 0., 0., 1.]])\n"
     ]
    }
   ],
   "source": [
    "x = torch.eye(5, 5) # identity matrix\n",
    "print(x)"
   ]
  },
  {
   "cell_type": "code",
   "execution_count": 8,
   "id": "48eedfa6-44a4-476b-b0b9-707f13e5c601",
   "metadata": {},
   "outputs": [
    {
     "name": "stdout",
     "output_type": "stream",
     "text": [
      "tensor([0, 1, 2, 3, 4])\n"
     ]
    }
   ],
   "source": [
    "x = torch.arange(start=0, end=5, step=1) # range[0,5]\n",
    "print(x)"
   ]
  },
  {
   "cell_type": "code",
   "execution_count": 9,
   "id": "57ff5917-a1bb-49c5-bc3e-c4272a155f9a",
   "metadata": {},
   "outputs": [
    {
     "name": "stdout",
     "output_type": "stream",
     "text": [
      "tensor([0.1000, 0.2000, 0.3000, 0.4000, 0.5000, 0.6000, 0.7000, 0.8000, 0.9000,\n",
      "        1.0000])\n"
     ]
    }
   ],
   "source": [
    "x = torch.linspace(start=0.1, end=1, steps=10) # equal cut into parts\n",
    "print(x)"
   ]
  },
  {
   "cell_type": "code",
   "execution_count": 10,
   "id": "43265afa-6c49-47c3-a3b3-bb6d705ccff3",
   "metadata": {},
   "outputs": [
    {
     "name": "stdout",
     "output_type": "stream",
     "text": [
      "tensor([[-0.2402, -1.6307,  0.6818, -0.0020,  1.0872]])\n"
     ]
    }
   ],
   "source": [
    "x = torch.empty(size = (1, 5)).normal_(mean=0, std=1) # normal distribution\n",
    "print(x)"
   ]
  },
  {
   "cell_type": "code",
   "execution_count": 11,
   "id": "4dd353c8-cd08-43cb-a255-e9401f4e9e44",
   "metadata": {},
   "outputs": [
    {
     "name": "stdout",
     "output_type": "stream",
     "text": [
      "tensor([[0.4704, 0.5660, 0.3666, 0.4855, 0.4403]])\n"
     ]
    }
   ],
   "source": [
    "x = torch.empty(size = (1, 5)).uniform_(0, 1) # uniform distribution, same as torch.rand()\n",
    "print(x)"
   ]
  },
  {
   "cell_type": "code",
   "execution_count": 12,
   "id": "46dd5b8d-8027-42db-9907-477e5b8a58b5",
   "metadata": {},
   "outputs": [
    {
     "name": "stdout",
     "output_type": "stream",
     "text": [
      "tensor([[1., 0., 0.],\n",
      "        [0., 1., 0.],\n",
      "        [0., 0., 1.]])\n"
     ]
    }
   ],
   "source": [
    "x = torch.diag(torch.ones(3)) # diagonal matrix with ones values, same as torch.eye(3, 3)\n",
    "print(x)"
   ]
  },
  {
   "cell_type": "markdown",
   "id": "6182b033-fa3a-48b0-8473-7ece98fd4f63",
   "metadata": {},
   "source": [
    "How to initialize and convert tensors to other types (int, float, double)"
   ]
  },
  {
   "cell_type": "code",
   "execution_count": 13,
   "id": "68b199d2-21e2-4233-bd58-2d29ee9c9dbc",
   "metadata": {},
   "outputs": [
    {
     "name": "stdout",
     "output_type": "stream",
     "text": [
      "tensor([False,  True,  True,  True])\n",
      "tensor([0, 1, 2, 3], dtype=torch.int16)\n",
      "tensor([0, 1, 2, 3])\n",
      "tensor([0., 1., 2., 3.], dtype=torch.float16)\n",
      "tensor([0., 1., 2., 3.])\n",
      "tensor([0., 1., 2., 3.], dtype=torch.float64)\n"
     ]
    }
   ],
   "source": [
    "# create an int64 tensor\n",
    "tensor = torch.arange(4)\n",
    "# convert it into a boolean tensor\n",
    "print(tensor.bool())\n",
    "# convert to int16 tensor\n",
    "print(tensor.short())\n",
    "# convert to int64 tensor\n",
    "print(tensor.long()) # important to use\n",
    "# convert to float16 tensor\n",
    "print(tensor.half())\n",
    "# convert to float32 tensor\n",
    "print(tensor.float()) # most often to use\n",
    "# convert to float64 tensor\n",
    "print(tensor.double())"
   ]
  },
  {
   "cell_type": "markdown",
   "id": "624ead48-a947-477a-bee4-6c77de80c4c5",
   "metadata": {},
   "source": [
    "Array to Tensor conversion and vice-versa"
   ]
  },
  {
   "cell_type": "code",
   "execution_count": 14,
   "id": "1d96ee62-a7d3-4f42-9d06-9d95b4d44bd6",
   "metadata": {},
   "outputs": [
    {
     "name": "stdout",
     "output_type": "stream",
     "text": [
      "tensor([[0., 0., 0., 0., 0.],\n",
      "        [0., 0., 0., 0., 0.],\n",
      "        [0., 0., 0., 0., 0.],\n",
      "        [0., 0., 0., 0., 0.],\n",
      "        [0., 0., 0., 0., 0.]], dtype=torch.float64)\n",
      "[[0. 0. 0. 0. 0.]\n",
      " [0. 0. 0. 0. 0.]\n",
      " [0. 0. 0. 0. 0.]\n",
      " [0. 0. 0. 0. 0.]\n",
      " [0. 0. 0. 0. 0.]]\n"
     ]
    }
   ],
   "source": [
    "import numpy as np\n",
    "np_array = np.zeros((5, 5))\n",
    "\n",
    "# array to tensor\n",
    "tensor = torch.from_numpy(np_array)\n",
    "\n",
    "# tensor to array\n",
    "np_array_back = tensor.numpy()\n",
    "print(tensor)\n",
    "print(np_array_back)"
   ]
  },
  {
   "cell_type": "markdown",
   "id": "f5dbb1da-4633-4f21-9f05-32fb73a89de5",
   "metadata": {},
   "source": [
    "## Tensor Math & Comparison Operations"
   ]
  },
  {
   "cell_type": "code",
   "execution_count": 15,
   "id": "d382b047-e240-4de1-a59a-59fdc6d895fe",
   "metadata": {},
   "outputs": [],
   "source": [
    "x = torch.tensor([1, 2, 3])\n",
    "y = torch.tensor([9, 8, 7])"
   ]
  },
  {
   "cell_type": "code",
   "execution_count": 16,
   "id": "9f4440e9-f5e6-46cc-8491-3d6c071e922b",
   "metadata": {},
   "outputs": [
    {
     "name": "stdout",
     "output_type": "stream",
     "text": [
      "tensor([10., 10., 10.])\n",
      "tensor([10, 10, 10])\n",
      "tensor([10, 10, 10])\n"
     ]
    }
   ],
   "source": [
    "# addition\n",
    "z1 = torch.empty(3)\n",
    "torch.add(x, y, out=z1)\n",
    "print(z1)\n",
    "# same result\n",
    "z2 = torch.add(x, y)\n",
    "print(z2)\n",
    "# cleanest method\n",
    "z = x + y\n",
    "print(z)"
   ]
  },
  {
   "cell_type": "code",
   "execution_count": 17,
   "id": "2c4882d5-10f7-4654-9631-ed93d6fdc515",
   "metadata": {},
   "outputs": [
    {
     "name": "stdout",
     "output_type": "stream",
     "text": [
      "tensor([-8, -6, -4])\n"
     ]
    }
   ],
   "source": [
    "# Substraction\n",
    "z = x - y\n",
    "print(z)"
   ]
  },
  {
   "cell_type": "code",
   "execution_count": 18,
   "id": "75b85d4d-771c-4cd2-af46-663043d87bbf",
   "metadata": {},
   "outputs": [
    {
     "name": "stdout",
     "output_type": "stream",
     "text": [
      "tensor([0.1111, 0.2500, 0.4286])\n"
     ]
    }
   ],
   "source": [
    "# Division\n",
    "z = torch.true_divide(x, y) # equal shape of x and y\n",
    "print(z)"
   ]
  },
  {
   "cell_type": "code",
   "execution_count": 19,
   "id": "b62c55e9-0e60-403e-82a8-e9984448be92",
   "metadata": {},
   "outputs": [
    {
     "data": {
      "text/plain": [
       "tensor([1., 2., 3.])"
      ]
     },
     "execution_count": 19,
     "metadata": {},
     "output_type": "execute_result"
    }
   ],
   "source": [
    "# inplace operations\n",
    "t = torch.zeros(3)\n",
    "t.add_(x)"
   ]
  },
  {
   "cell_type": "code",
   "execution_count": 20,
   "id": "ab6a1313-4cf1-4de2-9cd3-336290b3e95a",
   "metadata": {},
   "outputs": [
    {
     "name": "stdout",
     "output_type": "stream",
     "text": [
      "tensor([1, 2, 3])\n"
     ]
    }
   ],
   "source": [
    "t += x # t = t + x\n",
    "print(x)"
   ]
  },
  {
   "cell_type": "code",
   "execution_count": 21,
   "id": "1205b474-617b-4629-8d30-0745b8ac1fba",
   "metadata": {},
   "outputs": [
    {
     "name": "stdout",
     "output_type": "stream",
     "text": [
      "tensor([1, 4, 9])\n"
     ]
    }
   ],
   "source": [
    "# Exponentiation\n",
    "z = x.pow(2) # a power of 2 # same as z = x ** 2\n",
    "print(z)"
   ]
  },
  {
   "cell_type": "code",
   "execution_count": 22,
   "id": "3563b474-354c-43e2-a22e-4cc2a5c1423e",
   "metadata": {},
   "outputs": [
    {
     "name": "stdout",
     "output_type": "stream",
     "text": [
      "tensor([True, True, True])\n"
     ]
    }
   ],
   "source": [
    "# Simple comparison\n",
    "z = x > 0\n",
    "print(z)"
   ]
  },
  {
   "cell_type": "code",
   "execution_count": 23,
   "id": "90daf50a-f4a1-40a1-bc79-92979a1392d3",
   "metadata": {},
   "outputs": [
    {
     "name": "stdout",
     "output_type": "stream",
     "text": [
      "tensor([[1.6430, 0.5692, 1.2012],\n",
      "        [1.3496, 0.6505, 0.9740]])\n"
     ]
    }
   ],
   "source": [
    "# Matrix Multiplication\n",
    "x1 = torch.rand((2, 5))\n",
    "x2 = torch.rand((5, 3))\n",
    "x3 = torch.mm(x1, x2) # matrix 2x3\n",
    "# same result\n",
    "x3 = x1.mm(x2)\n",
    "print(x3)"
   ]
  },
  {
   "cell_type": "code",
   "execution_count": 24,
   "id": "cd27e5b3-3284-46fe-98e7-16204e3f51a9",
   "metadata": {},
   "outputs": [
    {
     "data": {
      "text/plain": [
       "tensor([[0.7119, 0.6393, 0.8152, 1.2186, 0.6486],\n",
       "        [1.6174, 1.0445, 1.5734, 2.3789, 1.6560],\n",
       "        [0.8598, 0.6528, 0.8238, 1.3173, 0.8435],\n",
       "        [1.1377, 0.8835, 1.2167, 1.7583, 0.9608],\n",
       "        [0.9672, 0.4661, 0.9198, 1.2707, 1.0546]])"
      ]
     },
     "execution_count": 24,
     "metadata": {},
     "output_type": "execute_result"
    }
   ],
   "source": [
    "# Matrix exponentiation\n",
    "matrix_exp = torch.rand(5, 5)\n",
    "matrix_exp.matrix_power(3) # matrix A^3"
   ]
  },
  {
   "cell_type": "code",
   "execution_count": 25,
   "id": "b317cfcd-c0d8-4462-ba1e-583eca8d976c",
   "metadata": {},
   "outputs": [
    {
     "name": "stdout",
     "output_type": "stream",
     "text": [
      "tensor([ 9, 16, 21])\n"
     ]
    }
   ],
   "source": [
    "# element wise multiplication\n",
    "z = x * y\n",
    "print(z)"
   ]
  },
  {
   "cell_type": "code",
   "execution_count": 26,
   "id": "e5ade18b-d4d8-4972-bbf1-91977f51efeb",
   "metadata": {},
   "outputs": [
    {
     "name": "stdout",
     "output_type": "stream",
     "text": [
      "tensor(46)\n"
     ]
    }
   ],
   "source": [
    "# dot product\n",
    "z = torch.dot(x, y)\n",
    "print(z)"
   ]
  },
  {
   "cell_type": "code",
   "execution_count": 27,
   "id": "378b7f74-09f6-4929-b960-1cb3642b0bbf",
   "metadata": {},
   "outputs": [],
   "source": [
    "# Batch Matrix Multiplication\n",
    "batch = 32\n",
    "n = 10\n",
    "m = 20\n",
    "p = 30\n",
    "\n",
    "tensor1 = torch.rand((batch, n, m))\n",
    "tensor2 = torch.rand((batch, m, p))\n",
    "out_bmm = torch.bmm(tensor1, tensor2) # shape is (batch, n, p)"
   ]
  },
  {
   "cell_type": "code",
   "execution_count": 28,
   "id": "498882b8-d006-4bc8-bf30-679ab7d3fa73",
   "metadata": {},
   "outputs": [
    {
     "name": "stdout",
     "output_type": "stream",
     "text": [
      "tensor([[-0.1588,  0.6100,  0.5474,  0.0453,  0.2111],\n",
      "        [ 0.1421,  0.5433,  0.3209, -0.5023,  0.0719],\n",
      "        [ 0.1993,  0.3626,  0.5996, -0.0093,  0.2360],\n",
      "        [-0.5452,  0.8181,  0.9098,  0.0167,  0.6901],\n",
      "        [-0.6668,  0.7660,  0.7309, -0.5631,  0.5419]])\n"
     ]
    }
   ],
   "source": [
    "# Example of Broadcasting\n",
    "x1 = torch.rand((5, 5)) # matrix\n",
    "x2 = torch.rand((1, 5)) # vector\n",
    "z = x1 - x2\n",
    "print(z)"
   ]
  },
  {
   "cell_type": "code",
   "execution_count": 29,
   "id": "2100040a-a9f1-4295-a2cc-13fae1b663b8",
   "metadata": {},
   "outputs": [
    {
     "name": "stdout",
     "output_type": "stream",
     "text": [
      "tensor([False, False, False])\n"
     ]
    }
   ],
   "source": [
    "# other useful tensor operations\n",
    "sum_x = torch.sum(x, dim=0) # which dimension used to sum over\n",
    "\n",
    "values, indices = torch.max(x, dim=0) # x.max(dim=0)\n",
    "values, indices = torch.min(x, dim=0) # x.min(dim=0)\n",
    "\n",
    "abs_x = torch.abs(x)\n",
    "\n",
    "z = torch.argmax(x, dim=0)\n",
    "z = torch.argmin(x, dim=0)\n",
    "\n",
    "mean_x = torch.mean(x.float(), dim=0)\n",
    "\n",
    "z = torch.eq(x, y) # which elements are the same\n",
    "print(z)"
   ]
  },
  {
   "cell_type": "code",
   "execution_count": 30,
   "id": "d71738fa-dda1-441c-8ef8-3cb5c87f9ae9",
   "metadata": {},
   "outputs": [
    {
     "data": {
      "text/plain": [
       "torch.return_types.sort(\n",
       "values=tensor([7, 8, 9]),\n",
       "indices=tensor([2, 1, 0]))"
      ]
     },
     "execution_count": 30,
     "metadata": {},
     "output_type": "execute_result"
    }
   ],
   "source": [
    "torch.sort(y, dim=0, descending=False) # return values and indices"
   ]
  },
  {
   "cell_type": "code",
   "execution_count": 31,
   "id": "312c5e07-7bb7-413a-b97d-03ca252cabe6",
   "metadata": {},
   "outputs": [
    {
     "name": "stdout",
     "output_type": "stream",
     "text": [
      "tensor([1, 2, 3])\n",
      "tensor([2, 2, 2])\n"
     ]
    }
   ],
   "source": [
    "z = torch.clamp(x, min=2, max=2) # 将不在范围的值替换为最大/最小值\n",
    "print(x)\n",
    "print(z)"
   ]
  },
  {
   "cell_type": "code",
   "execution_count": 32,
   "id": "a9f22ec2-566b-42b3-ae70-7d51ee4ef64f",
   "metadata": {},
   "outputs": [
    {
     "name": "stdout",
     "output_type": "stream",
     "text": [
      "tensor(True) tensor(False)\n"
     ]
    }
   ],
   "source": [
    "x = torch.tensor([1,0,1,1,1], dtype = torch.bool)\n",
    "z1 = torch.any(x) # or\n",
    "z2 = torch.all(x) # and\n",
    "print(z1, z2)"
   ]
  },
  {
   "cell_type": "markdown",
   "id": "c3a45b30-158b-455b-a08b-3dffac7db37a",
   "metadata": {},
   "source": [
    "## Tensor Indexing"
   ]
  },
  {
   "cell_type": "code",
   "execution_count": 33,
   "id": "cc60cd84-2065-413f-87c8-30f2575ff023",
   "metadata": {},
   "outputs": [
    {
     "name": "stdout",
     "output_type": "stream",
     "text": [
      "torch.Size([25])\n"
     ]
    }
   ],
   "source": [
    "# indexing\n",
    "batch_size = 10\n",
    "features = 25\n",
    "x = torch.rand((batch_size, features))\n",
    "\n",
    "print(x[0].shape) # x[0,:]"
   ]
  },
  {
   "cell_type": "code",
   "execution_count": 34,
   "id": "7c0c33f2-1a20-4af4-a4c7-e30f38d71d61",
   "metadata": {},
   "outputs": [
    {
     "name": "stdout",
     "output_type": "stream",
     "text": [
      "torch.Size([10])\n"
     ]
    }
   ],
   "source": [
    "print(x[:,0].shape) # x[:,0]"
   ]
  },
  {
   "cell_type": "code",
   "execution_count": 35,
   "id": "ef767b67-91f3-44b7-9a71-024b6ba57281",
   "metadata": {},
   "outputs": [
    {
     "name": "stdout",
     "output_type": "stream",
     "text": [
      "tensor([0.8051, 0.0079, 0.5760, 0.6320, 0.6954, 0.4253, 0.0131, 0.3714, 0.6121,\n",
      "        0.5631])\n"
     ]
    }
   ],
   "source": [
    "print(x[2, 0:10]) # third row, first 10 columns"
   ]
  },
  {
   "cell_type": "code",
   "execution_count": 36,
   "id": "8e9753c0-d5e0-49fe-a4f6-13653dcdc54f",
   "metadata": {},
   "outputs": [
    {
     "name": "stdout",
     "output_type": "stream",
     "text": [
      "tensor([1.0000e+02, 9.8690e-01, 6.6475e-01, 1.8049e-01, 8.7535e-02, 7.2265e-01,\n",
      "        5.3757e-01, 4.9548e-01, 7.3308e-01, 3.1217e-01, 2.1519e-01, 6.7550e-01,\n",
      "        3.7073e-01, 6.6886e-01, 8.3677e-01, 1.1607e-01, 1.6496e-01, 8.8467e-01,\n",
      "        4.4436e-01, 9.0770e-01, 3.4327e-01, 8.8100e-01, 9.8578e-01, 4.0607e-01,\n",
      "        9.9166e-01])\n"
     ]
    }
   ],
   "source": [
    "x[0,0] = 100\n",
    "print(x[0])"
   ]
  },
  {
   "cell_type": "code",
   "execution_count": 37,
   "id": "d90e9725-9aa6-4beb-9adc-1f5e17124b86",
   "metadata": {},
   "outputs": [
    {
     "name": "stdout",
     "output_type": "stream",
     "text": [
      "tensor([2, 5, 8])\n"
     ]
    }
   ],
   "source": [
    "# Fancy indexing\n",
    "x = torch.arange(10)\n",
    "indices = [2,5,8]\n",
    "print(x[indices])"
   ]
  },
  {
   "cell_type": "code",
   "execution_count": 38,
   "id": "f41c3947-e03a-4b51-a2af-19716510d625",
   "metadata": {},
   "outputs": [
    {
     "name": "stdout",
     "output_type": "stream",
     "text": [
      "torch.Size([2])\n"
     ]
    }
   ],
   "source": [
    "x = torch.rand((3, 5))\n",
    "rows = torch.tensor([1, 0])\n",
    "cols = torch.tensor([4, 0])\n",
    "print(x[rows, cols].shape) # pick out the element of (1,4) and (0,0)"
   ]
  },
  {
   "cell_type": "code",
   "execution_count": 39,
   "id": "3205d7e5-24cc-4d7d-80db-693185828045",
   "metadata": {},
   "outputs": [
    {
     "name": "stdout",
     "output_type": "stream",
     "text": [
      "tensor([0, 1, 9])\n",
      "tensor([], dtype=torch.int64)\n"
     ]
    }
   ],
   "source": [
    "# More advanced indexing\n",
    "x = torch.arange(10)\n",
    "print(x[(x < 2) | (x > 8)]) # pick out smaller than 2 or bigger than 8\n",
    "print(x[(x < 2) & (x > 8)]) # pick out smaller than 2 and bigger than 8"
   ]
  },
  {
   "cell_type": "code",
   "execution_count": 40,
   "id": "707c54c7-375b-431b-915f-7153182271bf",
   "metadata": {},
   "outputs": [
    {
     "name": "stdout",
     "output_type": "stream",
     "text": [
      "tensor([0, 2, 4, 6, 8])\n"
     ]
    }
   ],
   "source": [
    "print(x[x.remainder(2) == 0]) # remainder == 0"
   ]
  },
  {
   "cell_type": "code",
   "execution_count": 41,
   "id": "394e2785-53dd-44b1-b325-ccb8f0f6d106",
   "metadata": {},
   "outputs": [
    {
     "name": "stdout",
     "output_type": "stream",
     "text": [
      "tensor([ 0,  2,  4,  6,  8, 10,  6,  7,  8,  9])\n"
     ]
    }
   ],
   "source": [
    "# useful opertions\n",
    "print(torch.where(x > 5, x, x*2)) # same as np.where()"
   ]
  },
  {
   "cell_type": "code",
   "execution_count": 42,
   "id": "8facb72d-0e0c-40ab-b9d7-aa238940c886",
   "metadata": {},
   "outputs": [
    {
     "name": "stdout",
     "output_type": "stream",
     "text": [
      "tensor([0, 1, 2, 3, 4])\n"
     ]
    }
   ],
   "source": [
    "print(torch.tensor([0,0,1,2,2,3,4]).unique()) # return unique elements "
   ]
  },
  {
   "cell_type": "code",
   "execution_count": 43,
   "id": "e74ae141-062b-4ab4-ac59-8369eba2dac4",
   "metadata": {},
   "outputs": [
    {
     "name": "stdout",
     "output_type": "stream",
     "text": [
      "1\n"
     ]
    }
   ],
   "source": [
    "print(x.ndimension()) # the number of dimensions"
   ]
  },
  {
   "cell_type": "code",
   "execution_count": 44,
   "id": "e015c23e-0db0-4d8a-94e7-6c55d617c6c5",
   "metadata": {},
   "outputs": [
    {
     "name": "stdout",
     "output_type": "stream",
     "text": [
      "10\n"
     ]
    }
   ],
   "source": [
    "print(x.numel()) # number of elements"
   ]
  },
  {
   "cell_type": "markdown",
   "id": "6f781833-2640-4e2f-ae6f-357b7fb8331c",
   "metadata": {},
   "source": [
    "## Tensor Reshaping"
   ]
  },
  {
   "cell_type": "code",
   "execution_count": 45,
   "id": "889cf27f-4788-41d3-bc06-f40886161306",
   "metadata": {},
   "outputs": [
    {
     "name": "stdout",
     "output_type": "stream",
     "text": [
      "tensor([[0, 1, 2],\n",
      "        [3, 4, 5],\n",
      "        [6, 7, 8]])\n"
     ]
    }
   ],
   "source": [
    "x = torch.arange(9)\n",
    "\n",
    "x_3x3 = x.view(3, 3)\n",
    "x_3x3 = x.reshape(3, 3)\n",
    "print(x_3x3)"
   ]
  },
  {
   "cell_type": "code",
   "execution_count": 46,
   "id": "a790cfb7-c343-45c9-b4b6-ef0ae8907671",
   "metadata": {},
   "outputs": [
    {
     "name": "stdout",
     "output_type": "stream",
     "text": [
      "tensor([[0, 3, 6],\n",
      "        [1, 4, 7],\n",
      "        [2, 5, 8]])\n",
      "tensor([0, 3, 6, 1, 4, 7, 2, 5, 8])\n",
      "tensor([0, 3, 6, 1, 4, 7, 2, 5, 8])\n"
     ]
    }
   ],
   "source": [
    "y = x_3x3.t() # transpose\n",
    "print(y)\n",
    "print(y.reshape(9))\n",
    "print(y.contiguous().view(9))"
   ]
  },
  {
   "cell_type": "code",
   "execution_count": 47,
   "id": "605917ef-126c-438f-b9d9-e6e585c6654d",
   "metadata": {},
   "outputs": [
    {
     "name": "stdout",
     "output_type": "stream",
     "text": [
      "torch.Size([4, 5])\n",
      "torch.Size([2, 10])\n"
     ]
    }
   ],
   "source": [
    "x1 = torch.rand((2, 5))\n",
    "x2 = torch.rand((2, 5))\n",
    "print(torch.cat((x1, x2), dim=0).shape) # combine 2 tensors by columns\n",
    "print(torch.cat((x1, x2), dim=1).shape) # combine 2 tensors by rows"
   ]
  },
  {
   "cell_type": "code",
   "execution_count": 48,
   "id": "0cd21132-9c21-4acf-861e-225dd9e0a2f5",
   "metadata": {},
   "outputs": [
    {
     "name": "stdout",
     "output_type": "stream",
     "text": [
      "torch.Size([10])\n"
     ]
    }
   ],
   "source": [
    "z = x1.view(-1) # number of elements\n",
    "print(z.shape)"
   ]
  },
  {
   "cell_type": "code",
   "execution_count": 49,
   "id": "793d73a1-164e-466e-a648-3d06fe6c163b",
   "metadata": {},
   "outputs": [
    {
     "name": "stdout",
     "output_type": "stream",
     "text": [
      "torch.Size([64, 10])\n"
     ]
    }
   ],
   "source": [
    "batch = 64\n",
    "x = torch.rand((batch, 2, 5))\n",
    "z = x.view(batch, -1) # keep the dimension of `batch`, and conbine other dimensions\n",
    "print(z.shape)"
   ]
  },
  {
   "cell_type": "code",
   "execution_count": 50,
   "id": "1cffc61d-2118-41db-821d-bee15adf90fb",
   "metadata": {},
   "outputs": [
    {
     "name": "stdout",
     "output_type": "stream",
     "text": [
      "torch.Size([64, 5, 2])\n"
     ]
    }
   ],
   "source": [
    "z = x.permute(0, 2, 1) # change the dimension order: 0 to 0, 2 to 1, 1 to 2\n",
    "print(z.shape)"
   ]
  },
  {
   "cell_type": "code",
   "execution_count": 51,
   "id": "327ae117-cf2d-427c-b0d7-64a40a772d4c",
   "metadata": {},
   "outputs": [
    {
     "name": "stdout",
     "output_type": "stream",
     "text": [
      "torch.Size([10])\n",
      "torch.Size([1, 10])\n",
      "torch.Size([10, 1])\n"
     ]
    }
   ],
   "source": [
    "x = torch.arange(10) # [10]\n",
    "print(x.shape)\n",
    "print(x.unsqueeze(0).shape) # insert 1 at the 0 position of dimension\n",
    "print(x.unsqueeze(1).shape) # insert 1 at the 1 position of dimension"
   ]
  },
  {
   "cell_type": "code",
   "execution_count": 52,
   "id": "93f99547-87ae-47d7-baf3-565d9009a81b",
   "metadata": {},
   "outputs": [
    {
     "name": "stdout",
     "output_type": "stream",
     "text": [
      "torch.Size([1, 10, 1])\n"
     ]
    }
   ],
   "source": [
    "x = torch.arange(10).unsqueeze(0).unsqueeze(2) # 1x10x1\n",
    "print(x.shape)"
   ]
  },
  {
   "cell_type": "code",
   "execution_count": 53,
   "id": "c13a9a23-0d28-4a27-aed2-b17e14ea86e5",
   "metadata": {},
   "outputs": [
    {
     "name": "stdout",
     "output_type": "stream",
     "text": [
      "torch.Size([1, 10])\n"
     ]
    }
   ],
   "source": [
    "z = x.squeeze(2) # delete the dimension of 1 at the position 2\n",
    "print(z.shape)"
   ]
  }
 ],
 "metadata": {
  "kernelspec": {
   "display_name": "Python 3 (ipykernel)",
   "language": "python",
   "name": "python3"
  },
  "language_info": {
   "codemirror_mode": {
    "name": "ipython",
    "version": 3
   },
   "file_extension": ".py",
   "mimetype": "text/x-python",
   "name": "python",
   "nbconvert_exporter": "python",
   "pygments_lexer": "ipython3",
   "version": "3.9.12"
  }
 },
 "nbformat": 4,
 "nbformat_minor": 5
}